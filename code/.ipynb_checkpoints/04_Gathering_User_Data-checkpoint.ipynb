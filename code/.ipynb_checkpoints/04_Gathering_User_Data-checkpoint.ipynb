{
 "cells": [
  {
   "cell_type": "markdown",
   "metadata": {},
   "source": [
    "# Check (That Tweet) Yo Self \n",
    "## Prioritizing Tweets to Fact Check\n",
    "###### Part 4: Gathering User Data\n",
    "\n",
    "After exploring the tweets we gathered, we realized it would be hugely beneficial to also have information on the user like number of followers, number of tweets total, etc. In this notebook, we loop through our previously gathered tweets to add the user data. "
   ]
  },
  {
   "cell_type": "code",
   "execution_count": 1,
   "metadata": {},
   "outputs": [],
   "source": [
    "import pandas as pd\n",
    "import numpy as np\n",
    "from tweetscrape.users_scrape import TweetScrapperUser\n",
    "import tweetscrape\n",
    "import warnings\n",
    "warnings.filterwarnings('ignore')\n",
    "from sklearn.feature_extraction.text import CountVectorizer, TfidfVectorizer"
   ]
  },
  {
   "cell_type": "markdown",
   "metadata": {},
   "source": [
    "Importing our data"
   ]
  },
  {
   "cell_type": "code",
   "execution_count": 2,
   "metadata": {},
   "outputs": [],
   "source": [
    "tweet = pd.read_csv('./data/cleaned_with_lysol.csv')"
   ]
  },
  {
   "cell_type": "markdown",
   "metadata": {},
   "source": [
    "Quick check to see how the user info is returned from Twitter"
   ]
  },
  {
   "cell_type": "code",
   "execution_count": 3,
   "metadata": {},
   "outputs": [],
   "source": [
    "ts = TweetScrapperUser(\"PulpNews\")\n",
    "user_info = ts.get_profile_info()"
   ]
  },
  {
   "cell_type": "code",
   "execution_count": 4,
   "metadata": {},
   "outputs": [
    {
     "data": {
      "text/plain": [
       "'The Fastest Crime News Updates on the Planet!'"
      ]
     },
     "execution_count": 4,
     "metadata": {},
     "output_type": "execute_result"
    }
   ],
   "source": [
    "user_info['bio']"
   ]
  },
  {
   "cell_type": "markdown",
   "metadata": {},
   "source": [
    "This function loops through each user to grab their profile information:"
   ]
  },
  {
   "cell_type": "code",
   "execution_count": 5,
   "metadata": {},
   "outputs": [],
   "source": [
    "def get_user(df):\n",
    "    #Start a counter to track progress\n",
    "    count = 0\n",
    "    \n",
    "    #Create our new columns that will eventually hold the user data\n",
    "    df['user_bio'] = 0\n",
    "    df['user_location'] = 0\n",
    "    df['user_url'] = 0\n",
    "    df['user_tweets'] = 0\n",
    "    df['user_following'] = 0\n",
    "    df['user_followers'] = 0\n",
    "    df['user_favorites'] = 0\n",
    "    \n",
    "    #Loop to gather user data and assign it to the correct column\n",
    "    for user in df['author']:\n",
    "        count += 1\n",
    "        try:\n",
    "            ts = TweetScrapperUser(user)\n",
    "            user_info = ts.get_profile_info()\n",
    "            df.loc[df['author'] == user, 'user_bio'] = user_info['bio']\n",
    "            df.loc[df['author'] == user,'user_location'] = user_info['location']\n",
    "            df.loc[df['author'] == user,'user_url'] = user_info['url']\n",
    "            df.loc[df['author'] == user,'user_tweets'] = user_info['tweets']\n",
    "            df.loc[df['author'] == user,'user_following'] = user_info['following']\n",
    "            df.loc[df['author'] == user,'user_followers'] = user_info['followers']\n",
    "            df.loc[df['author'] == user,'user_favorites'] = user_info['favorites']\n",
    "            if count % 100 == 0:\n",
    "                print(f'{count} users have been gathered')\n",
    "                df.to_csv(f'./data/users/{count}_tweet_random.csv', index=False)\n",
    "        except:\n",
    "            pass\n",
    "    \n",
    "    #Return the final, filled in dataframe\n",
    "    return df"
   ]
  },
  {
   "cell_type": "markdown",
   "metadata": {},
   "source": [
    "### Pulling 40k random ones:"
   ]
  },
  {
   "cell_type": "markdown",
   "metadata": {},
   "source": [
    "We already pulled around 80,000 tweets but going back to grab the user info ix very time consuming. To make it more efficient, we'll take a random set of 40,000 tweets to then grab user info. "
   ]
  },
  {
   "cell_type": "code",
   "execution_count": 9,
   "metadata": {},
   "outputs": [],
   "source": [
    "tweet_rand = tweet.sample(n = 40_000, random_state = 21).reset_index(drop=True)"
   ]
  },
  {
   "cell_type": "code",
   "execution_count": 10,
   "metadata": {},
   "outputs": [
    {
     "data": {
      "text/html": [
       "<div>\n",
       "<style scoped>\n",
       "    .dataframe tbody tr th:only-of-type {\n",
       "        vertical-align: middle;\n",
       "    }\n",
       "\n",
       "    .dataframe tbody tr th {\n",
       "        vertical-align: top;\n",
       "    }\n",
       "\n",
       "    .dataframe thead th {\n",
       "        text-align: right;\n",
       "    }\n",
       "</style>\n",
       "<table border=\"1\" class=\"dataframe\">\n",
       "  <thead>\n",
       "    <tr style=\"text-align: right;\">\n",
       "      <th></th>\n",
       "      <th>id</th>\n",
       "      <th>time</th>\n",
       "      <th>author</th>\n",
       "      <th>author_id</th>\n",
       "      <th>associated_tweet</th>\n",
       "      <th>text</th>\n",
       "      <th>links</th>\n",
       "      <th>hashtags</th>\n",
       "      <th>mentions</th>\n",
       "      <th>reply_count</th>\n",
       "      <th>...</th>\n",
       "      <th>hashtag_count</th>\n",
       "      <th>mention_count</th>\n",
       "      <th>word_count</th>\n",
       "      <th>char_count</th>\n",
       "      <th>link_count</th>\n",
       "      <th>text_sentiment</th>\n",
       "      <th>text_links_removed</th>\n",
       "      <th>clean_text</th>\n",
       "      <th>clean_word_count</th>\n",
       "      <th>clean_char_count</th>\n",
       "    </tr>\n",
       "  </thead>\n",
       "  <tbody>\n",
       "    <tr>\n",
       "      <th>0</th>\n",
       "      <td>1254190074595553281</td>\n",
       "      <td>2020-04-25 16:26:30</td>\n",
       "      <td>Iam_helenna</td>\n",
       "      <td>215204985</td>\n",
       "      <td>1254190074595553281</td>\n",
       "      <td>Today, we have 1182 cases in Nigeria with 35 d...</td>\n",
       "      <td>[]</td>\n",
       "      <td>['']</td>\n",
       "      <td>['']</td>\n",
       "      <td>37</td>\n",
       "      <td>...</td>\n",
       "      <td>0</td>\n",
       "      <td>0</td>\n",
       "      <td>42</td>\n",
       "      <td>270</td>\n",
       "      <td>0</td>\n",
       "      <td>0.4215</td>\n",
       "      <td>Today, we have 1182 cases in Nigeria with 35 d...</td>\n",
       "      <td>today cases nigeria deaths discharged isolatio...</td>\n",
       "      <td>28</td>\n",
       "      <td>193</td>\n",
       "    </tr>\n",
       "    <tr>\n",
       "      <th>1</th>\n",
       "      <td>1253828209075990531</td>\n",
       "      <td>2020-04-24 16:28:34</td>\n",
       "      <td>KerryeHill</td>\n",
       "      <td>2807727004</td>\n",
       "      <td>1253697753479331840</td>\n",
       "      <td>There's no such thing as a medical disinfectan...</td>\n",
       "      <td>[]</td>\n",
       "      <td>['']</td>\n",
       "      <td>['']</td>\n",
       "      <td>1</td>\n",
       "      <td>...</td>\n",
       "      <td>0</td>\n",
       "      <td>0</td>\n",
       "      <td>40</td>\n",
       "      <td>248</td>\n",
       "      <td>0</td>\n",
       "      <td>-0.7184</td>\n",
       "      <td>There's no such thing as a medical disinfectan...</td>\n",
       "      <td>thing medical disinfectant use pulmonary syste...</td>\n",
       "      <td>19</td>\n",
       "      <td>152</td>\n",
       "    </tr>\n",
       "    <tr>\n",
       "      <th>2</th>\n",
       "      <td>1253460644294283265</td>\n",
       "      <td>2020-04-23 16:08:00</td>\n",
       "      <td>Lmt48430438</td>\n",
       "      <td>1232381432988930049</td>\n",
       "      <td>1253460644294283265</td>\n",
       "      <td>Waiting to see how many people drink disinfect...</td>\n",
       "      <td>[]</td>\n",
       "      <td>['']</td>\n",
       "      <td>['@DarcysCartoon']</td>\n",
       "      <td>1</td>\n",
       "      <td>...</td>\n",
       "      <td>0</td>\n",
       "      <td>1</td>\n",
       "      <td>23</td>\n",
       "      <td>130</td>\n",
       "      <td>0</td>\n",
       "      <td>0.0000</td>\n",
       "      <td>Waiting to see how many people drink disinfect...</td>\n",
       "      <td>waiting see many people drink disinfectant tru...</td>\n",
       "      <td>13</td>\n",
       "      <td>93</td>\n",
       "    </tr>\n",
       "    <tr>\n",
       "      <th>3</th>\n",
       "      <td>1254194987945865217</td>\n",
       "      <td>2020-04-25 16:46:01</td>\n",
       "      <td>iamshollyyoung</td>\n",
       "      <td>3096323025</td>\n",
       "      <td>1254194987945865217</td>\n",
       "      <td>Today I know there's no result Nigeria can not...</td>\n",
       "      <td>['https://t.co/RRuHGBH1SI']</td>\n",
       "      <td>['#Covid_19']</td>\n",
       "      <td>['']</td>\n",
       "      <td>1</td>\n",
       "      <td>...</td>\n",
       "      <td>1</td>\n",
       "      <td>0</td>\n",
       "      <td>16</td>\n",
       "      <td>118</td>\n",
       "      <td>1</td>\n",
       "      <td>-0.2095</td>\n",
       "      <td>Today I know there's no result Nigeria can not...</td>\n",
       "      <td>today know result nigeria rig imagine ncdc rig...</td>\n",
       "      <td>15</td>\n",
       "      <td>93</td>\n",
       "    </tr>\n",
       "    <tr>\n",
       "      <th>4</th>\n",
       "      <td>1253835841685934081</td>\n",
       "      <td>2020-04-24 16:58:54</td>\n",
       "      <td>toddcusuman</td>\n",
       "      <td>588727638</td>\n",
       "      <td>1253835841685934081</td>\n",
       "      <td>New York rapper Fred the Godson dies at 35 aft...</td>\n",
       "      <td>['https://t.co/rXOi5YEoZl']</td>\n",
       "      <td>['']</td>\n",
       "      <td>['']</td>\n",
       "      <td>0</td>\n",
       "      <td>...</td>\n",
       "      <td>0</td>\n",
       "      <td>0</td>\n",
       "      <td>14</td>\n",
       "      <td>122</td>\n",
       "      <td>1</td>\n",
       "      <td>0.0000</td>\n",
       "      <td>New York rapper Fred the Godson dies at 35 aft...</td>\n",
       "      <td>new york rapper fred godson dies coronavirus h...</td>\n",
       "      <td>17</td>\n",
       "      <td>93</td>\n",
       "    </tr>\n",
       "    <tr>\n",
       "      <th>...</th>\n",
       "      <td>...</td>\n",
       "      <td>...</td>\n",
       "      <td>...</td>\n",
       "      <td>...</td>\n",
       "      <td>...</td>\n",
       "      <td>...</td>\n",
       "      <td>...</td>\n",
       "      <td>...</td>\n",
       "      <td>...</td>\n",
       "      <td>...</td>\n",
       "      <td>...</td>\n",
       "      <td>...</td>\n",
       "      <td>...</td>\n",
       "      <td>...</td>\n",
       "      <td>...</td>\n",
       "      <td>...</td>\n",
       "      <td>...</td>\n",
       "      <td>...</td>\n",
       "      <td>...</td>\n",
       "      <td>...</td>\n",
       "      <td>...</td>\n",
       "    </tr>\n",
       "    <tr>\n",
       "      <th>39995</th>\n",
       "      <td>1254190054295113729</td>\n",
       "      <td>2020-04-25 16:26:25</td>\n",
       "      <td>StevieK15</td>\n",
       "      <td>400491014</td>\n",
       "      <td>1254172638307586049</td>\n",
       "      <td>This is why you shouldn’t use hydroxychloroqui...</td>\n",
       "      <td>[]</td>\n",
       "      <td>['']</td>\n",
       "      <td>['']</td>\n",
       "      <td>0</td>\n",
       "      <td>...</td>\n",
       "      <td>0</td>\n",
       "      <td>0</td>\n",
       "      <td>22</td>\n",
       "      <td>131</td>\n",
       "      <td>0</td>\n",
       "      <td>0.4019</td>\n",
       "      <td>This is why you shouldn’t use hydroxychloroqui...</td>\n",
       "      <td>use hydroxychloroquine iv disinfectant uv ther...</td>\n",
       "      <td>11</td>\n",
       "      <td>80</td>\n",
       "    </tr>\n",
       "    <tr>\n",
       "      <th>39996</th>\n",
       "      <td>1254193792221097985</td>\n",
       "      <td>2020-04-25 16:41:16</td>\n",
       "      <td>JasonJaytay1969</td>\n",
       "      <td>3053529784</td>\n",
       "      <td>1254093268884893696</td>\n",
       "      <td>It's the craziness of self isolation!! LOLTher...</td>\n",
       "      <td>[]</td>\n",
       "      <td>['']</td>\n",
       "      <td>['']</td>\n",
       "      <td>0</td>\n",
       "      <td>...</td>\n",
       "      <td>0</td>\n",
       "      <td>0</td>\n",
       "      <td>25</td>\n",
       "      <td>137</td>\n",
       "      <td>0</td>\n",
       "      <td>-0.4559</td>\n",
       "      <td>It's the craziness of self isolation!! LOLTher...</td>\n",
       "      <td>craziness self isolation lolthere one mikey kn...</td>\n",
       "      <td>10</td>\n",
       "      <td>66</td>\n",
       "    </tr>\n",
       "    <tr>\n",
       "      <th>39997</th>\n",
       "      <td>1253823959319142402</td>\n",
       "      <td>2020-04-24 16:11:41</td>\n",
       "      <td>kILtedbreeder</td>\n",
       "      <td>349449067</td>\n",
       "      <td>1253823959319142402</td>\n",
       "      <td>Day 42 of social isolation...that’s two days l...</td>\n",
       "      <td>['https://t.co/rq3x6Jv58h']</td>\n",
       "      <td>['']</td>\n",
       "      <td>['@disneyplus', '@DisneyParks']</td>\n",
       "      <td>1</td>\n",
       "      <td>...</td>\n",
       "      <td>0</td>\n",
       "      <td>2</td>\n",
       "      <td>41</td>\n",
       "      <td>262</td>\n",
       "      <td>1</td>\n",
       "      <td>-0.4215</td>\n",
       "      <td>Day 42 of social isolation...that’s two days l...</td>\n",
       "      <td>day social isolation two days longer biblical ...</td>\n",
       "      <td>28</td>\n",
       "      <td>179</td>\n",
       "    </tr>\n",
       "    <tr>\n",
       "      <th>39998</th>\n",
       "      <td>1254194918765068288</td>\n",
       "      <td>2020-04-25 16:45:45</td>\n",
       "      <td>HadejiaArc</td>\n",
       "      <td>1214683184484560896</td>\n",
       "      <td>1253329154415529985</td>\n",
       "      <td>Beside you said I have to go to the bank and y...</td>\n",
       "      <td>[]</td>\n",
       "      <td>['']</td>\n",
       "      <td>['']</td>\n",
       "      <td>0</td>\n",
       "      <td>...</td>\n",
       "      <td>0</td>\n",
       "      <td>0</td>\n",
       "      <td>48</td>\n",
       "      <td>225</td>\n",
       "      <td>0</td>\n",
       "      <td>0.7158</td>\n",
       "      <td>Beside you said I have to go to the bank and y...</td>\n",
       "      <td>beside said go bank know operating due covid t...</td>\n",
       "      <td>23</td>\n",
       "      <td>137</td>\n",
       "    </tr>\n",
       "    <tr>\n",
       "      <th>39999</th>\n",
       "      <td>1253826246875766784</td>\n",
       "      <td>2020-04-24 16:20:46</td>\n",
       "      <td>cespedes_aleks</td>\n",
       "      <td>2741767473</td>\n",
       "      <td>1253556794405896192</td>\n",
       "      <td>To ask is not the same to ingestDisinformation...</td>\n",
       "      <td>[]</td>\n",
       "      <td>['']</td>\n",
       "      <td>['']</td>\n",
       "      <td>0</td>\n",
       "      <td>...</td>\n",
       "      <td>0</td>\n",
       "      <td>0</td>\n",
       "      <td>10</td>\n",
       "      <td>59</td>\n",
       "      <td>0</td>\n",
       "      <td>0.0000</td>\n",
       "      <td>To ask is not the same to ingestDisinformation...</td>\n",
       "      <td>ask ingestdisinformation discredit</td>\n",
       "      <td>3</td>\n",
       "      <td>34</td>\n",
       "    </tr>\n",
       "  </tbody>\n",
       "</table>\n",
       "<p>40000 rows × 24 columns</p>\n",
       "</div>"
      ],
      "text/plain": [
       "                        id                 time           author  \\\n",
       "0      1254190074595553281  2020-04-25 16:26:30      Iam_helenna   \n",
       "1      1253828209075990531  2020-04-24 16:28:34       KerryeHill   \n",
       "2      1253460644294283265  2020-04-23 16:08:00      Lmt48430438   \n",
       "3      1254194987945865217  2020-04-25 16:46:01   iamshollyyoung   \n",
       "4      1253835841685934081  2020-04-24 16:58:54      toddcusuman   \n",
       "...                    ...                  ...              ...   \n",
       "39995  1254190054295113729  2020-04-25 16:26:25        StevieK15   \n",
       "39996  1254193792221097985  2020-04-25 16:41:16  JasonJaytay1969   \n",
       "39997  1253823959319142402  2020-04-24 16:11:41    kILtedbreeder   \n",
       "39998  1254194918765068288  2020-04-25 16:45:45       HadejiaArc   \n",
       "39999  1253826246875766784  2020-04-24 16:20:46   cespedes_aleks   \n",
       "\n",
       "                 author_id     associated_tweet  \\\n",
       "0                215204985  1254190074595553281   \n",
       "1               2807727004  1253697753479331840   \n",
       "2      1232381432988930049  1253460644294283265   \n",
       "3               3096323025  1254194987945865217   \n",
       "4                588727638  1253835841685934081   \n",
       "...                    ...                  ...   \n",
       "39995            400491014  1254172638307586049   \n",
       "39996           3053529784  1254093268884893696   \n",
       "39997            349449067  1253823959319142402   \n",
       "39998  1214683184484560896  1253329154415529985   \n",
       "39999           2741767473  1253556794405896192   \n",
       "\n",
       "                                                    text  \\\n",
       "0      Today, we have 1182 cases in Nigeria with 35 d...   \n",
       "1      There's no such thing as a medical disinfectan...   \n",
       "2      Waiting to see how many people drink disinfect...   \n",
       "3      Today I know there's no result Nigeria can not...   \n",
       "4      New York rapper Fred the Godson dies at 35 aft...   \n",
       "...                                                  ...   \n",
       "39995  This is why you shouldn’t use hydroxychloroqui...   \n",
       "39996  It's the craziness of self isolation!! LOLTher...   \n",
       "39997  Day 42 of social isolation...that’s two days l...   \n",
       "39998  Beside you said I have to go to the bank and y...   \n",
       "39999  To ask is not the same to ingestDisinformation...   \n",
       "\n",
       "                             links       hashtags  \\\n",
       "0                               []           ['']   \n",
       "1                               []           ['']   \n",
       "2                               []           ['']   \n",
       "3      ['https://t.co/RRuHGBH1SI']  ['#Covid_19']   \n",
       "4      ['https://t.co/rXOi5YEoZl']           ['']   \n",
       "...                            ...            ...   \n",
       "39995                           []           ['']   \n",
       "39996                           []           ['']   \n",
       "39997  ['https://t.co/rq3x6Jv58h']           ['']   \n",
       "39998                           []           ['']   \n",
       "39999                           []           ['']   \n",
       "\n",
       "                              mentions  reply_count  ...  hashtag_count  \\\n",
       "0                                 ['']           37  ...              0   \n",
       "1                                 ['']            1  ...              0   \n",
       "2                   ['@DarcysCartoon']            1  ...              0   \n",
       "3                                 ['']            1  ...              1   \n",
       "4                                 ['']            0  ...              0   \n",
       "...                                ...          ...  ...            ...   \n",
       "39995                             ['']            0  ...              0   \n",
       "39996                             ['']            0  ...              0   \n",
       "39997  ['@disneyplus', '@DisneyParks']            1  ...              0   \n",
       "39998                             ['']            0  ...              0   \n",
       "39999                             ['']            0  ...              0   \n",
       "\n",
       "       mention_count word_count  char_count  link_count  text_sentiment  \\\n",
       "0                  0         42         270           0          0.4215   \n",
       "1                  0         40         248           0         -0.7184   \n",
       "2                  1         23         130           0          0.0000   \n",
       "3                  0         16         118           1         -0.2095   \n",
       "4                  0         14         122           1          0.0000   \n",
       "...              ...        ...         ...         ...             ...   \n",
       "39995              0         22         131           0          0.4019   \n",
       "39996              0         25         137           0         -0.4559   \n",
       "39997              2         41         262           1         -0.4215   \n",
       "39998              0         48         225           0          0.7158   \n",
       "39999              0         10          59           0          0.0000   \n",
       "\n",
       "                                      text_links_removed  \\\n",
       "0      Today, we have 1182 cases in Nigeria with 35 d...   \n",
       "1      There's no such thing as a medical disinfectan...   \n",
       "2      Waiting to see how many people drink disinfect...   \n",
       "3      Today I know there's no result Nigeria can not...   \n",
       "4      New York rapper Fred the Godson dies at 35 aft...   \n",
       "...                                                  ...   \n",
       "39995  This is why you shouldn’t use hydroxychloroqui...   \n",
       "39996  It's the craziness of self isolation!! LOLTher...   \n",
       "39997  Day 42 of social isolation...that’s two days l...   \n",
       "39998  Beside you said I have to go to the bank and y...   \n",
       "39999  To ask is not the same to ingestDisinformation...   \n",
       "\n",
       "                                              clean_text  clean_word_count  \\\n",
       "0      today cases nigeria deaths discharged isolatio...                28   \n",
       "1      thing medical disinfectant use pulmonary syste...                19   \n",
       "2      waiting see many people drink disinfectant tru...                13   \n",
       "3      today know result nigeria rig imagine ncdc rig...                15   \n",
       "4      new york rapper fred godson dies coronavirus h...                17   \n",
       "...                                                  ...               ...   \n",
       "39995  use hydroxychloroquine iv disinfectant uv ther...                11   \n",
       "39996  craziness self isolation lolthere one mikey kn...                10   \n",
       "39997  day social isolation two days longer biblical ...                28   \n",
       "39998  beside said go bank know operating due covid t...                23   \n",
       "39999                 ask ingestdisinformation discredit                 3   \n",
       "\n",
       "       clean_char_count  \n",
       "0                   193  \n",
       "1                   152  \n",
       "2                    93  \n",
       "3                    93  \n",
       "4                    93  \n",
       "...                 ...  \n",
       "39995                80  \n",
       "39996                66  \n",
       "39997               179  \n",
       "39998               137  \n",
       "39999                34  \n",
       "\n",
       "[40000 rows x 24 columns]"
      ]
     },
     "execution_count": 10,
     "metadata": {},
     "output_type": "execute_result"
    }
   ],
   "source": [
    "tweet_rand"
   ]
  },
  {
   "cell_type": "markdown",
   "metadata": {},
   "source": [
    "As mentioned above, this was extremely time consuming. While we had hopped for 40k, grabbing just over 30k took almost 12 hours. Hence why the cell below is unrun, after restarting the notebook we didn't want to wait another 12 hours for it to complete."
   ]
  },
  {
   "cell_type": "code",
   "execution_count": null,
   "metadata": {},
   "outputs": [
    {
     "name": "stderr",
     "output_type": "stream",
     "text": [
      "Unable to get last tweet timestamp\n"
     ]
    },
    {
     "name": "stdout",
     "output_type": "stream",
     "text": [
      "100 users have been gathered\n"
     ]
    },
    {
     "name": "stderr",
     "output_type": "stream",
     "text": [
      "Unable to get last tweet timestamp\n",
      "Unable to get last tweet timestamp\n"
     ]
    },
    {
     "name": "stdout",
     "output_type": "stream",
     "text": [
      "200 users have been gathered\n"
     ]
    },
    {
     "name": "stderr",
     "output_type": "stream",
     "text": [
      "Unable to get last tweet timestamp\n"
     ]
    },
    {
     "name": "stdout",
     "output_type": "stream",
     "text": [
      "300 users have been gathered\n",
      "400 users have been gathered\n"
     ]
    },
    {
     "name": "stderr",
     "output_type": "stream",
     "text": [
      "Unable to get last tweet timestamp\n"
     ]
    },
    {
     "name": "stdout",
     "output_type": "stream",
     "text": [
      "500 users have been gathered\n"
     ]
    },
    {
     "name": "stderr",
     "output_type": "stream",
     "text": [
      "Unable to get last tweet timestamp\n"
     ]
    },
    {
     "name": "stdout",
     "output_type": "stream",
     "text": [
      "600 users have been gathered\n"
     ]
    },
    {
     "name": "stderr",
     "output_type": "stream",
     "text": [
      "Unable to get last tweet timestamp\n"
     ]
    },
    {
     "name": "stdout",
     "output_type": "stream",
     "text": [
      "700 users have been gathered\n",
      "800 users have been gathered\n"
     ]
    },
    {
     "name": "stderr",
     "output_type": "stream",
     "text": [
      "Unable to get last tweet timestamp\n"
     ]
    },
    {
     "name": "stdout",
     "output_type": "stream",
     "text": [
      "900 users have been gathered\n"
     ]
    },
    {
     "name": "stderr",
     "output_type": "stream",
     "text": [
      "Unable to get last tweet timestamp\n"
     ]
    },
    {
     "name": "stdout",
     "output_type": "stream",
     "text": [
      "1000 users have been gathered\n"
     ]
    },
    {
     "name": "stderr",
     "output_type": "stream",
     "text": [
      "Unable to get last tweet timestamp\n",
      "Unable to get last tweet timestamp\n"
     ]
    },
    {
     "name": "stdout",
     "output_type": "stream",
     "text": [
      "1100 users have been gathered\n",
      "1200 users have been gathered\n"
     ]
    },
    {
     "name": "stderr",
     "output_type": "stream",
     "text": [
      "Unable to get last tweet timestamp\n",
      "Unable to get last tweet timestamp\n",
      "Unable to get last tweet timestamp\n"
     ]
    },
    {
     "name": "stdout",
     "output_type": "stream",
     "text": [
      "1300 users have been gathered\n",
      "1400 users have been gathered\n",
      "1500 users have been gathered\n"
     ]
    },
    {
     "name": "stderr",
     "output_type": "stream",
     "text": [
      "Unable to get last tweet timestamp\n",
      "Unable to get last tweet timestamp\n"
     ]
    },
    {
     "name": "stdout",
     "output_type": "stream",
     "text": [
      "1600 users have been gathered\n",
      "1700 users have been gathered\n"
     ]
    },
    {
     "name": "stderr",
     "output_type": "stream",
     "text": [
      "Unable to get last tweet timestamp\n",
      "Unable to get last tweet timestamp\n"
     ]
    },
    {
     "name": "stdout",
     "output_type": "stream",
     "text": [
      "1800 users have been gathered\n",
      "1900 users have been gathered\n",
      "2000 users have been gathered\n",
      "2100 users have been gathered\n",
      "2200 users have been gathered\n",
      "2300 users have been gathered\n",
      "2400 users have been gathered\n",
      "2500 users have been gathered\n",
      "2600 users have been gathered\n",
      "2700 users have been gathered\n",
      "2800 users have been gathered\n"
     ]
    },
    {
     "name": "stderr",
     "output_type": "stream",
     "text": [
      "Unable to get last tweet timestamp\n"
     ]
    },
    {
     "name": "stdout",
     "output_type": "stream",
     "text": [
      "2900 users have been gathered\n",
      "3000 users have been gathered\n"
     ]
    },
    {
     "name": "stderr",
     "output_type": "stream",
     "text": [
      "Unable to get last tweet timestamp\n"
     ]
    },
    {
     "name": "stdout",
     "output_type": "stream",
     "text": [
      "3100 users have been gathered\n",
      "3200 users have been gathered\n",
      "3300 users have been gathered\n"
     ]
    },
    {
     "name": "stderr",
     "output_type": "stream",
     "text": [
      "Unable to get last tweet timestamp\n"
     ]
    },
    {
     "name": "stdout",
     "output_type": "stream",
     "text": [
      "3400 users have been gathered\n",
      "3500 users have been gathered\n"
     ]
    },
    {
     "name": "stderr",
     "output_type": "stream",
     "text": [
      "Unable to get last tweet timestamp\n"
     ]
    },
    {
     "name": "stdout",
     "output_type": "stream",
     "text": [
      "3600 users have been gathered\n",
      "3700 users have been gathered\n"
     ]
    },
    {
     "name": "stderr",
     "output_type": "stream",
     "text": [
      "Unable to get last tweet timestamp\n"
     ]
    },
    {
     "name": "stdout",
     "output_type": "stream",
     "text": [
      "3800 users have been gathered\n",
      "3900 users have been gathered\n"
     ]
    },
    {
     "name": "stderr",
     "output_type": "stream",
     "text": [
      "Unable to get last tweet timestamp\n"
     ]
    },
    {
     "name": "stdout",
     "output_type": "stream",
     "text": [
      "4000 users have been gathered\n",
      "4100 users have been gathered\n",
      "4200 users have been gathered\n"
     ]
    },
    {
     "name": "stderr",
     "output_type": "stream",
     "text": [
      "Unable to get last tweet timestamp\n",
      "Unable to get last tweet timestamp\n"
     ]
    },
    {
     "name": "stdout",
     "output_type": "stream",
     "text": [
      "4300 users have been gathered\n"
     ]
    },
    {
     "name": "stderr",
     "output_type": "stream",
     "text": [
      "Unable to get last tweet timestamp\n"
     ]
    },
    {
     "name": "stdout",
     "output_type": "stream",
     "text": [
      "4400 users have been gathered\n",
      "4500 users have been gathered\n",
      "4600 users have been gathered\n",
      "4700 users have been gathered\n",
      "4800 users have been gathered\n"
     ]
    },
    {
     "name": "stderr",
     "output_type": "stream",
     "text": [
      "Unable to get last tweet timestamp\n"
     ]
    },
    {
     "name": "stdout",
     "output_type": "stream",
     "text": [
      "4900 users have been gathered\n",
      "5000 users have been gathered\n"
     ]
    },
    {
     "name": "stderr",
     "output_type": "stream",
     "text": [
      "Unable to get last tweet timestamp\n"
     ]
    },
    {
     "name": "stdout",
     "output_type": "stream",
     "text": [
      "5100 users have been gathered\n",
      "5200 users have been gathered\n",
      "5400 users have been gathered\n",
      "5500 users have been gathered\n",
      "5600 users have been gathered\n"
     ]
    },
    {
     "name": "stderr",
     "output_type": "stream",
     "text": [
      "Unable to get last tweet timestamp\n",
      "Unable to get last tweet timestamp\n"
     ]
    },
    {
     "name": "stdout",
     "output_type": "stream",
     "text": [
      "5700 users have been gathered\n",
      "5800 users have been gathered\n",
      "5900 users have been gathered\n"
     ]
    },
    {
     "name": "stderr",
     "output_type": "stream",
     "text": [
      "Unable to get last tweet timestamp\n"
     ]
    },
    {
     "name": "stdout",
     "output_type": "stream",
     "text": [
      "6000 users have been gathered\n",
      "6100 users have been gathered\n"
     ]
    },
    {
     "name": "stderr",
     "output_type": "stream",
     "text": [
      "Unable to get last tweet timestamp\n",
      "Unable to get last tweet timestamp\n",
      "Unable to get last tweet timestamp\n"
     ]
    },
    {
     "name": "stdout",
     "output_type": "stream",
     "text": [
      "6200 users have been gathered\n",
      "6300 users have been gathered\n"
     ]
    },
    {
     "name": "stderr",
     "output_type": "stream",
     "text": [
      "Unable to get last tweet timestamp\n"
     ]
    },
    {
     "name": "stdout",
     "output_type": "stream",
     "text": [
      "6400 users have been gathered\n"
     ]
    },
    {
     "name": "stderr",
     "output_type": "stream",
     "text": [
      "Unable to get last tweet timestamp\n"
     ]
    },
    {
     "name": "stdout",
     "output_type": "stream",
     "text": [
      "6500 users have been gathered\n",
      "6600 users have been gathered\n"
     ]
    },
    {
     "name": "stderr",
     "output_type": "stream",
     "text": [
      "Unable to get last tweet timestamp\n"
     ]
    },
    {
     "name": "stdout",
     "output_type": "stream",
     "text": [
      "6700 users have been gathered\n",
      "6800 users have been gathered\n",
      "6900 users have been gathered\n",
      "7000 users have been gathered\n"
     ]
    },
    {
     "name": "stderr",
     "output_type": "stream",
     "text": [
      "Unable to get last tweet timestamp\n"
     ]
    },
    {
     "name": "stdout",
     "output_type": "stream",
     "text": [
      "7100 users have been gathered\n"
     ]
    },
    {
     "name": "stderr",
     "output_type": "stream",
     "text": [
      "Unable to get last tweet timestamp\n"
     ]
    },
    {
     "name": "stdout",
     "output_type": "stream",
     "text": [
      "7200 users have been gathered\n"
     ]
    },
    {
     "name": "stderr",
     "output_type": "stream",
     "text": [
      "Unable to get last tweet timestamp\n"
     ]
    },
    {
     "name": "stdout",
     "output_type": "stream",
     "text": [
      "7300 users have been gathered\n",
      "7400 users have been gathered\n",
      "7500 users have been gathered\n",
      "7600 users have been gathered\n"
     ]
    },
    {
     "name": "stderr",
     "output_type": "stream",
     "text": [
      "Unable to get last tweet timestamp\n",
      "Unable to get last tweet timestamp\n"
     ]
    },
    {
     "name": "stdout",
     "output_type": "stream",
     "text": [
      "7700 users have been gathered\n"
     ]
    },
    {
     "name": "stderr",
     "output_type": "stream",
     "text": [
      "Unable to get last tweet timestamp\n"
     ]
    },
    {
     "name": "stdout",
     "output_type": "stream",
     "text": [
      "7800 users have been gathered\n",
      "7900 users have been gathered\n"
     ]
    },
    {
     "name": "stderr",
     "output_type": "stream",
     "text": [
      "Unable to get last tweet timestamp\n",
      "Unable to get last tweet timestamp\n"
     ]
    },
    {
     "name": "stdout",
     "output_type": "stream",
     "text": [
      "8000 users have been gathered\n",
      "8100 users have been gathered\n",
      "8200 users have been gathered\n",
      "8300 users have been gathered\n"
     ]
    },
    {
     "name": "stderr",
     "output_type": "stream",
     "text": [
      "Unable to get last tweet timestamp\n"
     ]
    },
    {
     "name": "stdout",
     "output_type": "stream",
     "text": [
      "8400 users have been gathered\n"
     ]
    },
    {
     "name": "stderr",
     "output_type": "stream",
     "text": [
      "Unable to get last tweet timestamp\n"
     ]
    },
    {
     "name": "stdout",
     "output_type": "stream",
     "text": [
      "8500 users have been gathered\n"
     ]
    },
    {
     "name": "stderr",
     "output_type": "stream",
     "text": [
      "Unable to get last tweet timestamp\n"
     ]
    },
    {
     "name": "stdout",
     "output_type": "stream",
     "text": [
      "8600 users have been gathered\n"
     ]
    },
    {
     "name": "stderr",
     "output_type": "stream",
     "text": [
      "Unable to get last tweet timestamp\n"
     ]
    },
    {
     "name": "stdout",
     "output_type": "stream",
     "text": [
      "8700 users have been gathered\n"
     ]
    },
    {
     "name": "stderr",
     "output_type": "stream",
     "text": [
      "Unable to get last tweet timestamp\n",
      "Unable to get last tweet timestamp\n"
     ]
    },
    {
     "name": "stdout",
     "output_type": "stream",
     "text": [
      "8800 users have been gathered\n"
     ]
    },
    {
     "name": "stderr",
     "output_type": "stream",
     "text": [
      "Unable to get last tweet timestamp\n"
     ]
    },
    {
     "name": "stdout",
     "output_type": "stream",
     "text": [
      "8900 users have been gathered\n"
     ]
    },
    {
     "name": "stderr",
     "output_type": "stream",
     "text": [
      "Unable to get last tweet timestamp\n"
     ]
    },
    {
     "name": "stdout",
     "output_type": "stream",
     "text": [
      "9000 users have been gathered\n",
      "9100 users have been gathered\n",
      "9200 users have been gathered\n",
      "9300 users have been gathered\n",
      "9400 users have been gathered\n",
      "9500 users have been gathered\n",
      "9600 users have been gathered\n",
      "9700 users have been gathered\n",
      "9800 users have been gathered\n",
      "9900 users have been gathered\n"
     ]
    },
    {
     "name": "stderr",
     "output_type": "stream",
     "text": [
      "Unable to get last tweet timestamp\n"
     ]
    },
    {
     "name": "stdout",
     "output_type": "stream",
     "text": [
      "10000 users have been gathered\n",
      "10100 users have been gathered\n",
      "10200 users have been gathered\n"
     ]
    },
    {
     "name": "stderr",
     "output_type": "stream",
     "text": [
      "Unable to get last tweet timestamp\n"
     ]
    },
    {
     "name": "stdout",
     "output_type": "stream",
     "text": [
      "10300 users have been gathered\n"
     ]
    },
    {
     "name": "stderr",
     "output_type": "stream",
     "text": [
      "Unable to get last tweet timestamp\n",
      "Unable to get last tweet timestamp\n"
     ]
    },
    {
     "name": "stdout",
     "output_type": "stream",
     "text": [
      "10400 users have been gathered\n",
      "10500 users have been gathered\n",
      "10600 users have been gathered\n"
     ]
    },
    {
     "name": "stderr",
     "output_type": "stream",
     "text": [
      "Unable to get last tweet timestamp\n",
      "Unable to get last tweet timestamp\n"
     ]
    },
    {
     "name": "stdout",
     "output_type": "stream",
     "text": [
      "10700 users have been gathered\n"
     ]
    },
    {
     "name": "stderr",
     "output_type": "stream",
     "text": [
      "Unable to get last tweet timestamp\n"
     ]
    },
    {
     "name": "stdout",
     "output_type": "stream",
     "text": [
      "10800 users have been gathered\n",
      "10900 users have been gathered\n",
      "11000 users have been gathered\n",
      "11100 users have been gathered\n",
      "11200 users have been gathered\n",
      "11300 users have been gathered\n"
     ]
    },
    {
     "name": "stderr",
     "output_type": "stream",
     "text": [
      "Unable to get last tweet timestamp\n"
     ]
    },
    {
     "name": "stdout",
     "output_type": "stream",
     "text": [
      "11400 users have been gathered\n"
     ]
    },
    {
     "name": "stderr",
     "output_type": "stream",
     "text": [
      "Unable to get last tweet timestamp\n",
      "Unable to get last tweet timestamp\n"
     ]
    },
    {
     "name": "stdout",
     "output_type": "stream",
     "text": [
      "11500 users have been gathered\n"
     ]
    },
    {
     "name": "stderr",
     "output_type": "stream",
     "text": [
      "Unable to get last tweet timestamp\n"
     ]
    },
    {
     "name": "stdout",
     "output_type": "stream",
     "text": [
      "11600 users have been gathered\n",
      "11700 users have been gathered\n",
      "11800 users have been gathered\n",
      "11900 users have been gathered\n",
      "12000 users have been gathered\n",
      "12100 users have been gathered\n"
     ]
    },
    {
     "name": "stderr",
     "output_type": "stream",
     "text": [
      "Unable to get last tweet timestamp\n"
     ]
    },
    {
     "name": "stdout",
     "output_type": "stream",
     "text": [
      "12200 users have been gathered\n"
     ]
    },
    {
     "name": "stderr",
     "output_type": "stream",
     "text": [
      "Unable to get last tweet timestamp\n"
     ]
    },
    {
     "name": "stdout",
     "output_type": "stream",
     "text": [
      "12300 users have been gathered\n"
     ]
    },
    {
     "name": "stderr",
     "output_type": "stream",
     "text": [
      "Unable to get last tweet timestamp\n"
     ]
    },
    {
     "name": "stdout",
     "output_type": "stream",
     "text": [
      "12400 users have been gathered\n",
      "12500 users have been gathered\n",
      "12600 users have been gathered\n"
     ]
    },
    {
     "name": "stderr",
     "output_type": "stream",
     "text": [
      "Unable to get last tweet timestamp\n"
     ]
    },
    {
     "name": "stdout",
     "output_type": "stream",
     "text": [
      "12700 users have been gathered\n",
      "12800 users have been gathered\n"
     ]
    },
    {
     "name": "stderr",
     "output_type": "stream",
     "text": [
      "Unable to get last tweet timestamp\n"
     ]
    },
    {
     "name": "stdout",
     "output_type": "stream",
     "text": [
      "12900 users have been gathered\n",
      "13000 users have been gathered\n",
      "13100 users have been gathered\n",
      "13200 users have been gathered\n",
      "13300 users have been gathered\n"
     ]
    },
    {
     "name": "stderr",
     "output_type": "stream",
     "text": [
      "Unable to get last tweet timestamp\n"
     ]
    },
    {
     "name": "stdout",
     "output_type": "stream",
     "text": [
      "13400 users have been gathered\n",
      "13500 users have been gathered\n"
     ]
    },
    {
     "name": "stderr",
     "output_type": "stream",
     "text": [
      "Unable to get last tweet timestamp\n"
     ]
    },
    {
     "name": "stdout",
     "output_type": "stream",
     "text": [
      "13600 users have been gathered\n"
     ]
    },
    {
     "name": "stderr",
     "output_type": "stream",
     "text": [
      "Unable to get last tweet timestamp\n"
     ]
    },
    {
     "name": "stdout",
     "output_type": "stream",
     "text": [
      "13700 users have been gathered\n"
     ]
    },
    {
     "name": "stderr",
     "output_type": "stream",
     "text": [
      "Unable to get last tweet timestamp\n",
      "Unable to get last tweet timestamp\n"
     ]
    },
    {
     "name": "stdout",
     "output_type": "stream",
     "text": [
      "13900 users have been gathered\n"
     ]
    },
    {
     "name": "stderr",
     "output_type": "stream",
     "text": [
      "Unable to get last tweet timestamp\n",
      "Unable to get last tweet timestamp\n"
     ]
    },
    {
     "name": "stdout",
     "output_type": "stream",
     "text": [
      "14000 users have been gathered\n"
     ]
    },
    {
     "name": "stderr",
     "output_type": "stream",
     "text": [
      "Unable to get last tweet timestamp\n"
     ]
    },
    {
     "name": "stdout",
     "output_type": "stream",
     "text": [
      "14200 users have been gathered\n"
     ]
    },
    {
     "name": "stderr",
     "output_type": "stream",
     "text": [
      "Unable to get last tweet timestamp\n",
      "Unable to get last tweet timestamp\n",
      "Unable to get last tweet timestamp\n"
     ]
    },
    {
     "name": "stdout",
     "output_type": "stream",
     "text": [
      "14300 users have been gathered\n",
      "14400 users have been gathered\n",
      "14500 users have been gathered\n",
      "14600 users have been gathered\n",
      "14700 users have been gathered\n",
      "14800 users have been gathered\n"
     ]
    },
    {
     "name": "stderr",
     "output_type": "stream",
     "text": [
      "Unable to get last tweet timestamp\n"
     ]
    },
    {
     "name": "stdout",
     "output_type": "stream",
     "text": [
      "14900 users have been gathered\n",
      "15000 users have been gathered\n",
      "15100 users have been gathered\n",
      "15200 users have been gathered\n"
     ]
    },
    {
     "name": "stderr",
     "output_type": "stream",
     "text": [
      "Unable to get last tweet timestamp\n"
     ]
    },
    {
     "name": "stdout",
     "output_type": "stream",
     "text": [
      "15300 users have been gathered\n",
      "15400 users have been gathered\n",
      "15500 users have been gathered\n",
      "15600 users have been gathered\n"
     ]
    },
    {
     "name": "stderr",
     "output_type": "stream",
     "text": [
      "Unable to get last tweet timestamp\n",
      "Unable to get last tweet timestamp\n",
      "Unable to get last tweet timestamp\n"
     ]
    },
    {
     "name": "stdout",
     "output_type": "stream",
     "text": [
      "15700 users have been gathered\n",
      "15800 users have been gathered\n",
      "15900 users have been gathered\n",
      "16000 users have been gathered\n"
     ]
    },
    {
     "name": "stderr",
     "output_type": "stream",
     "text": [
      "Unable to get last tweet timestamp\n"
     ]
    },
    {
     "name": "stdout",
     "output_type": "stream",
     "text": [
      "16100 users have been gathered\n"
     ]
    },
    {
     "name": "stderr",
     "output_type": "stream",
     "text": [
      "Unable to get last tweet timestamp\n",
      "Unable to get last tweet timestamp\n",
      "Unable to get last tweet timestamp\n"
     ]
    },
    {
     "name": "stdout",
     "output_type": "stream",
     "text": [
      "16200 users have been gathered\n"
     ]
    },
    {
     "name": "stderr",
     "output_type": "stream",
     "text": [
      "Unable to get last tweet timestamp\n"
     ]
    },
    {
     "name": "stdout",
     "output_type": "stream",
     "text": [
      "16300 users have been gathered\n",
      "16400 users have been gathered\n"
     ]
    },
    {
     "name": "stderr",
     "output_type": "stream",
     "text": [
      "Unable to get last tweet timestamp\n"
     ]
    },
    {
     "name": "stdout",
     "output_type": "stream",
     "text": [
      "16500 users have been gathered\n"
     ]
    },
    {
     "name": "stderr",
     "output_type": "stream",
     "text": [
      "Unable to get last tweet timestamp\n"
     ]
    },
    {
     "name": "stdout",
     "output_type": "stream",
     "text": [
      "16600 users have been gathered\n"
     ]
    },
    {
     "name": "stderr",
     "output_type": "stream",
     "text": [
      "Unable to get last tweet timestamp\n"
     ]
    },
    {
     "name": "stdout",
     "output_type": "stream",
     "text": [
      "16800 users have been gathered\n"
     ]
    },
    {
     "name": "stderr",
     "output_type": "stream",
     "text": [
      "Unable to get last tweet timestamp\n"
     ]
    },
    {
     "name": "stdout",
     "output_type": "stream",
     "text": [
      "16900 users have been gathered\n",
      "17000 users have been gathered\n"
     ]
    },
    {
     "name": "stderr",
     "output_type": "stream",
     "text": [
      "Unable to get last tweet timestamp\n",
      "Unable to get last tweet timestamp\n"
     ]
    },
    {
     "name": "stdout",
     "output_type": "stream",
     "text": [
      "17100 users have been gathered\n",
      "17200 users have been gathered\n",
      "17300 users have been gathered\n",
      "17400 users have been gathered\n"
     ]
    },
    {
     "name": "stderr",
     "output_type": "stream",
     "text": [
      "Unable to get last tweet timestamp\n"
     ]
    },
    {
     "name": "stdout",
     "output_type": "stream",
     "text": [
      "17500 users have been gathered\n",
      "17600 users have been gathered\n",
      "17700 users have been gathered\n"
     ]
    },
    {
     "name": "stderr",
     "output_type": "stream",
     "text": [
      "Unable to get last tweet timestamp\n",
      "Unable to get last tweet timestamp\n"
     ]
    },
    {
     "name": "stdout",
     "output_type": "stream",
     "text": [
      "17900 users have been gathered\n",
      "18100 users have been gathered\n",
      "18200 users have been gathered\n"
     ]
    },
    {
     "name": "stderr",
     "output_type": "stream",
     "text": [
      "Unable to get last tweet timestamp\n"
     ]
    },
    {
     "name": "stdout",
     "output_type": "stream",
     "text": [
      "18300 users have been gathered\n"
     ]
    },
    {
     "name": "stderr",
     "output_type": "stream",
     "text": [
      "Unable to get last tweet timestamp\n"
     ]
    },
    {
     "name": "stdout",
     "output_type": "stream",
     "text": [
      "18400 users have been gathered\n"
     ]
    },
    {
     "name": "stderr",
     "output_type": "stream",
     "text": [
      "Unable to get last tweet timestamp\n"
     ]
    },
    {
     "name": "stdout",
     "output_type": "stream",
     "text": [
      "18500 users have been gathered\n"
     ]
    },
    {
     "name": "stderr",
     "output_type": "stream",
     "text": [
      "Unable to get last tweet timestamp\n"
     ]
    },
    {
     "name": "stdout",
     "output_type": "stream",
     "text": [
      "18600 users have been gathered\n",
      "18700 users have been gathered\n"
     ]
    },
    {
     "name": "stderr",
     "output_type": "stream",
     "text": [
      "Unable to get last tweet timestamp\n",
      "Unable to get last tweet timestamp\n",
      "Unable to get last tweet timestamp\n"
     ]
    },
    {
     "name": "stdout",
     "output_type": "stream",
     "text": [
      "18800 users have been gathered\n"
     ]
    },
    {
     "name": "stderr",
     "output_type": "stream",
     "text": [
      "Unable to get last tweet timestamp\n",
      "Unable to get last tweet timestamp\n"
     ]
    },
    {
     "name": "stdout",
     "output_type": "stream",
     "text": [
      "18900 users have been gathered\n",
      "19000 users have been gathered\n",
      "19100 users have been gathered\n",
      "19200 users have been gathered\n"
     ]
    },
    {
     "name": "stderr",
     "output_type": "stream",
     "text": [
      "Unable to get last tweet timestamp\n",
      "Unable to get last tweet timestamp\n"
     ]
    },
    {
     "name": "stdout",
     "output_type": "stream",
     "text": [
      "19300 users have been gathered\n",
      "19400 users have been gathered\n",
      "19500 users have been gathered\n"
     ]
    },
    {
     "name": "stderr",
     "output_type": "stream",
     "text": [
      "Unable to get last tweet timestamp\n"
     ]
    },
    {
     "name": "stdout",
     "output_type": "stream",
     "text": [
      "19600 users have been gathered\n"
     ]
    },
    {
     "name": "stderr",
     "output_type": "stream",
     "text": [
      "Unable to get last tweet timestamp\n"
     ]
    },
    {
     "name": "stdout",
     "output_type": "stream",
     "text": [
      "19700 users have been gathered\n"
     ]
    },
    {
     "name": "stderr",
     "output_type": "stream",
     "text": [
      "Unable to get last tweet timestamp\n"
     ]
    },
    {
     "name": "stdout",
     "output_type": "stream",
     "text": [
      "19800 users have been gathered\n",
      "19900 users have been gathered\n",
      "20000 users have been gathered\n"
     ]
    },
    {
     "name": "stderr",
     "output_type": "stream",
     "text": [
      "Unable to get last tweet timestamp\n"
     ]
    },
    {
     "name": "stdout",
     "output_type": "stream",
     "text": [
      "20100 users have been gathered\n",
      "20200 users have been gathered\n",
      "20300 users have been gathered\n",
      "20400 users have been gathered\n"
     ]
    },
    {
     "name": "stderr",
     "output_type": "stream",
     "text": [
      "Unable to get last tweet timestamp\n",
      "Unable to get last tweet timestamp\n"
     ]
    },
    {
     "name": "stdout",
     "output_type": "stream",
     "text": [
      "20500 users have been gathered\n"
     ]
    },
    {
     "name": "stderr",
     "output_type": "stream",
     "text": [
      "Unable to get last tweet timestamp\n"
     ]
    },
    {
     "name": "stdout",
     "output_type": "stream",
     "text": [
      "20600 users have been gathered\n"
     ]
    },
    {
     "name": "stderr",
     "output_type": "stream",
     "text": [
      "Unable to get last tweet timestamp\n"
     ]
    },
    {
     "name": "stdout",
     "output_type": "stream",
     "text": [
      "20700 users have been gathered\n"
     ]
    },
    {
     "name": "stderr",
     "output_type": "stream",
     "text": [
      "Unable to get last tweet timestamp\n",
      "Unable to get last tweet timestamp\n"
     ]
    },
    {
     "name": "stdout",
     "output_type": "stream",
     "text": [
      "20800 users have been gathered\n"
     ]
    },
    {
     "name": "stderr",
     "output_type": "stream",
     "text": [
      "Unable to get last tweet timestamp\n"
     ]
    },
    {
     "name": "stdout",
     "output_type": "stream",
     "text": [
      "20900 users have been gathered\n"
     ]
    },
    {
     "name": "stderr",
     "output_type": "stream",
     "text": [
      "Unable to get last tweet timestamp\n"
     ]
    },
    {
     "name": "stdout",
     "output_type": "stream",
     "text": [
      "21100 users have been gathered\n",
      "21200 users have been gathered\n"
     ]
    },
    {
     "name": "stderr",
     "output_type": "stream",
     "text": [
      "Unable to get last tweet timestamp\n"
     ]
    },
    {
     "name": "stdout",
     "output_type": "stream",
     "text": [
      "21300 users have been gathered\n"
     ]
    },
    {
     "name": "stderr",
     "output_type": "stream",
     "text": [
      "Unable to get last tweet timestamp\n"
     ]
    },
    {
     "name": "stdout",
     "output_type": "stream",
     "text": [
      "21400 users have been gathered\n"
     ]
    },
    {
     "name": "stderr",
     "output_type": "stream",
     "text": [
      "Unable to get last tweet timestamp\n",
      "Unable to get last tweet timestamp\n"
     ]
    },
    {
     "name": "stdout",
     "output_type": "stream",
     "text": [
      "21500 users have been gathered\n",
      "21600 users have been gathered\n",
      "21700 users have been gathered\n"
     ]
    },
    {
     "name": "stderr",
     "output_type": "stream",
     "text": [
      "Unable to get last tweet timestamp\n"
     ]
    },
    {
     "name": "stdout",
     "output_type": "stream",
     "text": [
      "21800 users have been gathered\n",
      "21900 users have been gathered\n"
     ]
    },
    {
     "name": "stderr",
     "output_type": "stream",
     "text": [
      "Unable to get last tweet timestamp\n"
     ]
    },
    {
     "name": "stdout",
     "output_type": "stream",
     "text": [
      "22000 users have been gathered\n",
      "22100 users have been gathered\n"
     ]
    },
    {
     "name": "stderr",
     "output_type": "stream",
     "text": [
      "Unable to get last tweet timestamp\n",
      "Unable to get last tweet timestamp\n"
     ]
    },
    {
     "name": "stdout",
     "output_type": "stream",
     "text": [
      "22200 users have been gathered\n",
      "22300 users have been gathered\n"
     ]
    },
    {
     "name": "stderr",
     "output_type": "stream",
     "text": [
      "Unable to get last tweet timestamp\n"
     ]
    },
    {
     "name": "stdout",
     "output_type": "stream",
     "text": [
      "22400 users have been gathered\n"
     ]
    },
    {
     "name": "stderr",
     "output_type": "stream",
     "text": [
      "Unable to get last tweet timestamp\n"
     ]
    },
    {
     "name": "stdout",
     "output_type": "stream",
     "text": [
      "22500 users have been gathered\n",
      "22600 users have been gathered\n",
      "22700 users have been gathered\n"
     ]
    },
    {
     "name": "stderr",
     "output_type": "stream",
     "text": [
      "Unable to get last tweet timestamp\n"
     ]
    },
    {
     "name": "stdout",
     "output_type": "stream",
     "text": [
      "22800 users have been gathered\n",
      "22900 users have been gathered\n"
     ]
    },
    {
     "name": "stderr",
     "output_type": "stream",
     "text": [
      "Unable to get last tweet timestamp\n"
     ]
    },
    {
     "name": "stdout",
     "output_type": "stream",
     "text": [
      "23000 users have been gathered\n",
      "23100 users have been gathered\n",
      "23200 users have been gathered\n",
      "23300 users have been gathered\n"
     ]
    },
    {
     "name": "stderr",
     "output_type": "stream",
     "text": [
      "Unable to get last tweet timestamp\n"
     ]
    },
    {
     "name": "stdout",
     "output_type": "stream",
     "text": [
      "23400 users have been gathered\n"
     ]
    },
    {
     "name": "stderr",
     "output_type": "stream",
     "text": [
      "Unable to get last tweet timestamp\n"
     ]
    },
    {
     "name": "stdout",
     "output_type": "stream",
     "text": [
      "23500 users have been gathered\n"
     ]
    },
    {
     "name": "stderr",
     "output_type": "stream",
     "text": [
      "Unable to get last tweet timestamp\n"
     ]
    },
    {
     "name": "stdout",
     "output_type": "stream",
     "text": [
      "23600 users have been gathered\n",
      "23700 users have been gathered\n",
      "23800 users have been gathered\n"
     ]
    },
    {
     "name": "stderr",
     "output_type": "stream",
     "text": [
      "Unable to get last tweet timestamp\n"
     ]
    },
    {
     "name": "stdout",
     "output_type": "stream",
     "text": [
      "23900 users have been gathered\n"
     ]
    },
    {
     "name": "stderr",
     "output_type": "stream",
     "text": [
      "Unable to get last tweet timestamp\n"
     ]
    },
    {
     "name": "stdout",
     "output_type": "stream",
     "text": [
      "24000 users have been gathered\n",
      "24100 users have been gathered\n",
      "24200 users have been gathered\n"
     ]
    },
    {
     "name": "stderr",
     "output_type": "stream",
     "text": [
      "Unable to get last tweet timestamp\n",
      "Unable to get last tweet timestamp\n"
     ]
    },
    {
     "name": "stdout",
     "output_type": "stream",
     "text": [
      "24300 users have been gathered\n",
      "24400 users have been gathered\n"
     ]
    },
    {
     "name": "stderr",
     "output_type": "stream",
     "text": [
      "Unable to get last tweet timestamp\n"
     ]
    },
    {
     "name": "stdout",
     "output_type": "stream",
     "text": [
      "24500 users have been gathered\n",
      "24600 users have been gathered\n"
     ]
    },
    {
     "name": "stderr",
     "output_type": "stream",
     "text": [
      "Unable to get last tweet timestamp\n",
      "Unable to get last tweet timestamp\n"
     ]
    },
    {
     "name": "stdout",
     "output_type": "stream",
     "text": [
      "24700 users have been gathered\n"
     ]
    },
    {
     "name": "stderr",
     "output_type": "stream",
     "text": [
      "Unable to get last tweet timestamp\n"
     ]
    },
    {
     "name": "stdout",
     "output_type": "stream",
     "text": [
      "24900 users have been gathered\n"
     ]
    },
    {
     "name": "stderr",
     "output_type": "stream",
     "text": [
      "Unable to get last tweet timestamp\n"
     ]
    },
    {
     "name": "stdout",
     "output_type": "stream",
     "text": [
      "25000 users have been gathered\n",
      "25100 users have been gathered\n",
      "25200 users have been gathered\n"
     ]
    },
    {
     "name": "stderr",
     "output_type": "stream",
     "text": [
      "Unable to get last tweet timestamp\n"
     ]
    },
    {
     "name": "stdout",
     "output_type": "stream",
     "text": [
      "25300 users have been gathered\n",
      "25400 users have been gathered\n"
     ]
    },
    {
     "name": "stderr",
     "output_type": "stream",
     "text": [
      "Unable to get last tweet timestamp\n",
      "Unable to get last tweet timestamp\n",
      "Unable to get last tweet timestamp\n"
     ]
    },
    {
     "name": "stdout",
     "output_type": "stream",
     "text": [
      "25500 users have been gathered\n",
      "25600 users have been gathered\n",
      "25800 users have been gathered\n"
     ]
    },
    {
     "name": "stderr",
     "output_type": "stream",
     "text": [
      "Unable to get last tweet timestamp\n",
      "Unable to get last tweet timestamp\n",
      "Unable to get last tweet timestamp\n",
      "Unable to get last tweet timestamp\n"
     ]
    },
    {
     "name": "stdout",
     "output_type": "stream",
     "text": [
      "25900 users have been gathered\n",
      "26100 users have been gathered\n",
      "26200 users have been gathered\n"
     ]
    },
    {
     "name": "stderr",
     "output_type": "stream",
     "text": [
      "Unable to get last tweet timestamp\n"
     ]
    },
    {
     "name": "stdout",
     "output_type": "stream",
     "text": [
      "26300 users have been gathered\n"
     ]
    },
    {
     "name": "stderr",
     "output_type": "stream",
     "text": [
      "Unable to get last tweet timestamp\n"
     ]
    },
    {
     "name": "stdout",
     "output_type": "stream",
     "text": [
      "26400 users have been gathered\n"
     ]
    },
    {
     "name": "stderr",
     "output_type": "stream",
     "text": [
      "Unable to get last tweet timestamp\n",
      "Unable to get last tweet timestamp\n"
     ]
    },
    {
     "name": "stdout",
     "output_type": "stream",
     "text": [
      "26500 users have been gathered\n"
     ]
    },
    {
     "name": "stderr",
     "output_type": "stream",
     "text": [
      "Unable to get last tweet timestamp\n",
      "Unable to get last tweet timestamp\n"
     ]
    },
    {
     "name": "stdout",
     "output_type": "stream",
     "text": [
      "26600 users have been gathered\n",
      "26700 users have been gathered\n",
      "26800 users have been gathered\n",
      "26900 users have been gathered\n"
     ]
    },
    {
     "name": "stderr",
     "output_type": "stream",
     "text": [
      "Unable to get last tweet timestamp\n"
     ]
    },
    {
     "name": "stdout",
     "output_type": "stream",
     "text": [
      "27000 users have been gathered\n",
      "27100 users have been gathered\n",
      "27200 users have been gathered\n",
      "27300 users have been gathered\n"
     ]
    },
    {
     "name": "stderr",
     "output_type": "stream",
     "text": [
      "Unable to get last tweet timestamp\n"
     ]
    },
    {
     "name": "stdout",
     "output_type": "stream",
     "text": [
      "27400 users have been gathered\n"
     ]
    },
    {
     "name": "stderr",
     "output_type": "stream",
     "text": [
      "Unable to get last tweet timestamp\n"
     ]
    },
    {
     "name": "stdout",
     "output_type": "stream",
     "text": [
      "27500 users have been gathered\n"
     ]
    },
    {
     "name": "stderr",
     "output_type": "stream",
     "text": [
      "Unable to get last tweet timestamp\n"
     ]
    },
    {
     "name": "stdout",
     "output_type": "stream",
     "text": [
      "27600 users have been gathered\n",
      "27700 users have been gathered\n",
      "27800 users have been gathered\n",
      "27900 users have been gathered\n",
      "28000 users have been gathered\n"
     ]
    },
    {
     "name": "stderr",
     "output_type": "stream",
     "text": [
      "Unable to get last tweet timestamp\n"
     ]
    },
    {
     "name": "stdout",
     "output_type": "stream",
     "text": [
      "28100 users have been gathered\n",
      "28200 users have been gathered\n",
      "28300 users have been gathered\n",
      "28400 users have been gathered\n"
     ]
    },
    {
     "name": "stderr",
     "output_type": "stream",
     "text": [
      "Unable to get last tweet timestamp\n",
      "Unable to get last tweet timestamp\n"
     ]
    },
    {
     "name": "stdout",
     "output_type": "stream",
     "text": [
      "28500 users have been gathered\n",
      "28600 users have been gathered\n",
      "28700 users have been gathered\n",
      "28800 users have been gathered\n"
     ]
    },
    {
     "name": "stderr",
     "output_type": "stream",
     "text": [
      "Unable to get last tweet timestamp\n"
     ]
    },
    {
     "name": "stdout",
     "output_type": "stream",
     "text": [
      "28900 users have been gathered\n",
      "29000 users have been gathered\n"
     ]
    },
    {
     "name": "stderr",
     "output_type": "stream",
     "text": [
      "Unable to get last tweet timestamp\n",
      "Unable to get last tweet timestamp\n"
     ]
    },
    {
     "name": "stdout",
     "output_type": "stream",
     "text": [
      "29100 users have been gathered\n"
     ]
    },
    {
     "name": "stderr",
     "output_type": "stream",
     "text": [
      "Unable to get last tweet timestamp\n"
     ]
    },
    {
     "name": "stdout",
     "output_type": "stream",
     "text": [
      "29200 users have been gathered\n",
      "29300 users have been gathered\n"
     ]
    },
    {
     "name": "stderr",
     "output_type": "stream",
     "text": [
      "Unable to get last tweet timestamp\n"
     ]
    },
    {
     "name": "stdout",
     "output_type": "stream",
     "text": [
      "29400 users have been gathered\n"
     ]
    },
    {
     "name": "stderr",
     "output_type": "stream",
     "text": [
      "Unable to get last tweet timestamp\n"
     ]
    },
    {
     "name": "stdout",
     "output_type": "stream",
     "text": [
      "29500 users have been gathered\n"
     ]
    },
    {
     "name": "stderr",
     "output_type": "stream",
     "text": [
      "Unable to get last tweet timestamp\n"
     ]
    },
    {
     "name": "stdout",
     "output_type": "stream",
     "text": [
      "29600 users have been gathered\n",
      "29700 users have been gathered\n",
      "29800 users have been gathered\n",
      "29900 users have been gathered\n",
      "30000 users have been gathered\n"
     ]
    },
    {
     "name": "stderr",
     "output_type": "stream",
     "text": [
      "Unable to get last tweet timestamp\n"
     ]
    },
    {
     "name": "stdout",
     "output_type": "stream",
     "text": [
      "30100 users have been gathered\n"
     ]
    },
    {
     "name": "stderr",
     "output_type": "stream",
     "text": [
      "Unable to get last tweet timestamp\n"
     ]
    },
    {
     "name": "stdout",
     "output_type": "stream",
     "text": [
      "30200 users have been gathered\n"
     ]
    },
    {
     "name": "stderr",
     "output_type": "stream",
     "text": [
      "Unable to get last tweet timestamp\n",
      "Unable to get last tweet timestamp\n"
     ]
    },
    {
     "name": "stdout",
     "output_type": "stream",
     "text": [
      "30300 users have been gathered\n",
      "30400 users have been gathered\n",
      "30500 users have been gathered\n",
      "30600 users have been gathered\n"
     ]
    },
    {
     "name": "stderr",
     "output_type": "stream",
     "text": [
      "Unable to get last tweet timestamp\n",
      "Unable to get last tweet timestamp\n"
     ]
    },
    {
     "name": "stdout",
     "output_type": "stream",
     "text": [
      "30700 users have been gathered\n"
     ]
    },
    {
     "name": "stderr",
     "output_type": "stream",
     "text": [
      "Unable to get last tweet timestamp\n"
     ]
    },
    {
     "name": "stdout",
     "output_type": "stream",
     "text": [
      "30800 users have been gathered\n",
      "30900 users have been gathered\n",
      "31000 users have been gathered\n",
      "31100 users have been gathered\n",
      "31200 users have been gathered\n",
      "31300 users have been gathered\n"
     ]
    },
    {
     "name": "stderr",
     "output_type": "stream",
     "text": [
      "Unable to get last tweet timestamp\n"
     ]
    },
    {
     "name": "stdout",
     "output_type": "stream",
     "text": [
      "31400 users have been gathered\n",
      "31500 users have been gathered\n"
     ]
    },
    {
     "name": "stderr",
     "output_type": "stream",
     "text": [
      "Unable to get last tweet timestamp\n"
     ]
    },
    {
     "name": "stdout",
     "output_type": "stream",
     "text": [
      "31600 users have been gathered\n"
     ]
    },
    {
     "name": "stderr",
     "output_type": "stream",
     "text": [
      "Unable to get last tweet timestamp\n"
     ]
    },
    {
     "name": "stdout",
     "output_type": "stream",
     "text": [
      "31700 users have been gathered\n"
     ]
    },
    {
     "name": "stderr",
     "output_type": "stream",
     "text": [
      "Unable to get last tweet timestamp\n"
     ]
    },
    {
     "name": "stdout",
     "output_type": "stream",
     "text": [
      "31800 users have been gathered\n"
     ]
    },
    {
     "name": "stderr",
     "output_type": "stream",
     "text": [
      "Unable to get last tweet timestamp\n"
     ]
    },
    {
     "name": "stdout",
     "output_type": "stream",
     "text": [
      "31900 users have been gathered\n"
     ]
    },
    {
     "name": "stderr",
     "output_type": "stream",
     "text": [
      "Unable to get last tweet timestamp\n"
     ]
    },
    {
     "name": "stdout",
     "output_type": "stream",
     "text": [
      "32000 users have been gathered\n",
      "32100 users have been gathered\n",
      "32200 users have been gathered\n"
     ]
    },
    {
     "name": "stderr",
     "output_type": "stream",
     "text": [
      "Unable to get last tweet timestamp\n"
     ]
    },
    {
     "name": "stdout",
     "output_type": "stream",
     "text": [
      "32300 users have been gathered\n"
     ]
    },
    {
     "name": "stderr",
     "output_type": "stream",
     "text": [
      "Unable to get last tweet timestamp\n",
      "Unable to get last tweet timestamp\n"
     ]
    },
    {
     "name": "stdout",
     "output_type": "stream",
     "text": [
      "32400 users have been gathered\n",
      "32500 users have been gathered\n",
      "32600 users have been gathered\n",
      "32700 users have been gathered\n",
      "32800 users have been gathered\n",
      "32900 users have been gathered\n",
      "33000 users have been gathered\n"
     ]
    },
    {
     "name": "stderr",
     "output_type": "stream",
     "text": [
      "Unable to get last tweet timestamp\n",
      "Unable to get last tweet timestamp\n"
     ]
    },
    {
     "name": "stdout",
     "output_type": "stream",
     "text": [
      "33100 users have been gathered\n",
      "33200 users have been gathered\n"
     ]
    },
    {
     "name": "stderr",
     "output_type": "stream",
     "text": [
      "Unable to get last tweet timestamp\n"
     ]
    }
   ],
   "source": [
    "tweet_rand = get_user(tweet_rand)\n",
    "tweet_rand.to_csv('./data/40k_random.csv', index = False)"
   ]
  },
  {
   "cell_type": "markdown",
   "metadata": {},
   "source": [
    "Now that we have user data, we'll do some more EDA then get to modeling."
   ]
  }
 ],
 "metadata": {
  "kernelspec": {
   "display_name": "Python 3",
   "language": "python",
   "name": "python3"
  },
  "language_info": {
   "codemirror_mode": {
    "name": "ipython",
    "version": 3
   },
   "file_extension": ".py",
   "mimetype": "text/x-python",
   "name": "python",
   "nbconvert_exporter": "python",
   "pygments_lexer": "ipython3",
   "version": "3.7.6"
  }
 },
 "nbformat": 4,
 "nbformat_minor": 4
}
