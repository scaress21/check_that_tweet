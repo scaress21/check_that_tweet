{
 "cells": [
  {
   "cell_type": "markdown",
   "metadata": {},
   "source": [
    "# Check (That Tweet) Yo Self \n",
    "## Prioritizing Tweets to Fact Check\n",
    "###### Part 5: Cluster EDA\n",
    "Finally, after gathering all the data and creating clusters, we can explore the features to see how these cluster apply to prioritizing fact checking in tweets."
   ]
  },
  {
   "cell_type": "code",
   "execution_count": 204,
   "metadata": {},
   "outputs": [],
   "source": [
    "import numpy as np\n",
    "import pandas as pd\n",
    "import matplotlib.pyplot as plt\n",
    "import seaborn as sns\n",
    "from sklearn.feature_extraction.text import TfidfVectorizer\n",
    "from sklearn.decomposition import TruncatedSVD\n",
    "from sklearn.metrics.pairwise import cosine_similarity\n",
    "from sklearn.model_selection import train_test_split\n",
    "from sklearn.linear_model import LinearRegression\n",
    "from nltk.corpus import stopwords"
   ]
  },
  {
   "cell_type": "code",
   "execution_count": 2,
   "metadata": {},
   "outputs": [],
   "source": [
    "tweet = pd.read_csv('./data/user_cluster_tweets.csv')"
   ]
  },
  {
   "cell_type": "code",
   "execution_count": 3,
   "metadata": {},
   "outputs": [
    {
     "data": {
      "text/html": [
       "<div>\n",
       "<style scoped>\n",
       "    .dataframe tbody tr th:only-of-type {\n",
       "        vertical-align: middle;\n",
       "    }\n",
       "\n",
       "    .dataframe tbody tr th {\n",
       "        vertical-align: top;\n",
       "    }\n",
       "\n",
       "    .dataframe thead th {\n",
       "        text-align: right;\n",
       "    }\n",
       "</style>\n",
       "<table border=\"1\" class=\"dataframe\">\n",
       "  <thead>\n",
       "    <tr style=\"text-align: right;\">\n",
       "      <th></th>\n",
       "      <th>id</th>\n",
       "      <th>time</th>\n",
       "      <th>author</th>\n",
       "      <th>author_id</th>\n",
       "      <th>associated_tweet</th>\n",
       "      <th>text</th>\n",
       "      <th>links</th>\n",
       "      <th>hashtags</th>\n",
       "      <th>mentions</th>\n",
       "      <th>reply_count</th>\n",
       "      <th>...</th>\n",
       "      <th>ratio</th>\n",
       "      <th>has_url</th>\n",
       "      <th>has_location</th>\n",
       "      <th>has_bio</th>\n",
       "      <th>len_bio</th>\n",
       "      <th>ratio_num_user</th>\n",
       "      <th>emotional_range</th>\n",
       "      <th>user_group_db</th>\n",
       "      <th>user_group</th>\n",
       "      <th>target</th>\n",
       "    </tr>\n",
       "  </thead>\n",
       "  <tbody>\n",
       "    <tr>\n",
       "      <th>0</th>\n",
       "      <td>1254190074595553281</td>\n",
       "      <td>2020-04-25 16:26:30</td>\n",
       "      <td>Iam_helenna</td>\n",
       "      <td>215204985</td>\n",
       "      <td>1254190074595553281</td>\n",
       "      <td>Today, we have 1182 cases in Nigeria with 35 d...</td>\n",
       "      <td>[]</td>\n",
       "      <td>['']</td>\n",
       "      <td>['']</td>\n",
       "      <td>37</td>\n",
       "      <td>...</td>\n",
       "      <td>1.357576</td>\n",
       "      <td>0</td>\n",
       "      <td>0</td>\n",
       "      <td>1</td>\n",
       "      <td>147</td>\n",
       "      <td>0.0</td>\n",
       "      <td>0.0195</td>\n",
       "      <td>0</td>\n",
       "      <td>0</td>\n",
       "      <td>289</td>\n",
       "    </tr>\n",
       "    <tr>\n",
       "      <th>1</th>\n",
       "      <td>1253828209075990531</td>\n",
       "      <td>2020-04-24 16:28:34</td>\n",
       "      <td>KerryeHill</td>\n",
       "      <td>2807727004</td>\n",
       "      <td>1253697753479331840</td>\n",
       "      <td>There's no such thing as a medical disinfectan...</td>\n",
       "      <td>[]</td>\n",
       "      <td>['']</td>\n",
       "      <td>['']</td>\n",
       "      <td>1</td>\n",
       "      <td>...</td>\n",
       "      <td>0.241706</td>\n",
       "      <td>0</td>\n",
       "      <td>0</td>\n",
       "      <td>1</td>\n",
       "      <td>89</td>\n",
       "      <td>0.0</td>\n",
       "      <td>0.0140</td>\n",
       "      <td>0</td>\n",
       "      <td>0</td>\n",
       "      <td>3</td>\n",
       "    </tr>\n",
       "  </tbody>\n",
       "</table>\n",
       "<p>2 rows × 40 columns</p>\n",
       "</div>"
      ],
      "text/plain": [
       "                    id                 time       author   author_id  \\\n",
       "0  1254190074595553281  2020-04-25 16:26:30  Iam_helenna   215204985   \n",
       "1  1253828209075990531  2020-04-24 16:28:34   KerryeHill  2807727004   \n",
       "\n",
       "      associated_tweet                                               text  \\\n",
       "0  1254190074595553281  Today, we have 1182 cases in Nigeria with 35 d...   \n",
       "1  1253697753479331840  There's no such thing as a medical disinfectan...   \n",
       "\n",
       "  links hashtags mentions  reply_count  ...     ratio  has_url has_location  \\\n",
       "0    []     ['']     ['']           37  ...  1.357576        0            0   \n",
       "1    []     ['']     ['']            1  ...  0.241706        0            0   \n",
       "\n",
       "   has_bio  len_bio  ratio_num_user  emotional_range  user_group_db  \\\n",
       "0        1      147             0.0           0.0195              0   \n",
       "1        1       89             0.0           0.0140              0   \n",
       "\n",
       "   user_group  target  \n",
       "0           0     289  \n",
       "1           0       3  \n",
       "\n",
       "[2 rows x 40 columns]"
      ]
     },
     "execution_count": 3,
     "metadata": {},
     "output_type": "execute_result"
    }
   ],
   "source": [
    "tweet.head(2)"
   ]
  },
  {
   "cell_type": "code",
   "execution_count": 4,
   "metadata": {},
   "outputs": [
    {
     "data": {
      "text/plain": [
       "0"
      ]
     },
     "execution_count": 4,
     "metadata": {},
     "output_type": "execute_result"
    }
   ],
   "source": [
    "sum(tweet.isna().sum())"
   ]
  },
  {
   "cell_type": "code",
   "execution_count": 5,
   "metadata": {},
   "outputs": [
    {
     "data": {
      "text/plain": [
       "(33199, 40)"
      ]
     },
     "execution_count": 5,
     "metadata": {},
     "output_type": "execute_result"
    }
   ],
   "source": [
    "tweet.shape"
   ]
  },
  {
   "cell_type": "code",
   "execution_count": 6,
   "metadata": {},
   "outputs": [
    {
     "data": {
      "text/plain": [
       "0    16502\n",
       "1     7537\n",
       "2     4537\n",
       "4     3835\n",
       "5      747\n",
       "7       19\n",
       "3        9\n",
       "9        8\n",
       "8        3\n",
       "6        2\n",
       "Name: user_group, dtype: int64"
      ]
     },
     "execution_count": 6,
     "metadata": {},
     "output_type": "execute_result"
    }
   ],
   "source": [
    "tweet['user_group'].value_counts()"
   ]
  },
  {
   "cell_type": "code",
   "execution_count": 7,
   "metadata": {},
   "outputs": [
    {
     "data": {
      "text/plain": [
       " 0    16418\n",
       " 3     7342\n",
       " 1     4247\n",
       "-1     1903\n",
       " 4     1768\n",
       " 2     1521\n",
       "Name: user_group_db, dtype: int64"
      ]
     },
     "execution_count": 7,
     "metadata": {},
     "output_type": "execute_result"
    }
   ],
   "source": [
    "tweet['user_group_db'].value_counts()"
   ]
  },
  {
   "cell_type": "code",
   "execution_count": 8,
   "metadata": {},
   "outputs": [],
   "source": [
    "def boxes(column):\n",
    "    sns.boxplot(x = 'user_group_db', y = column, data = tweet)\n",
    "    plt.title(column.replace('_', ' ').title())"
   ]
  },
  {
   "cell_type": "code",
   "execution_count": 9,
   "metadata": {},
   "outputs": [
    {
     "data": {
      "image/png": "[encoded data removed]",
      "text/plain": [
       "<Figure size 432x288 with 1 Axes>"
      ]
     },
     "metadata": {
      "needs_background": "light"
     },
     "output_type": "display_data"
    }
   ],
   "source": [
    "boxes('text_sentiment')"
   ]
  },
  {
   "cell_type": "code",
   "execution_count": 10,
   "metadata": {},
   "outputs": [
    {
     "data": {
      "image/png": "[encoded data removed]",
      "text/plain": [
       "<Figure size 432x288 with 1 Axes>"
      ]
     },
     "metadata": {
      "needs_background": "light"
     },
     "output_type": "display_data"
    }
   ],
   "source": [
    "boxes('ratio')"
   ]
  },
  {
   "cell_type": "code",
   "execution_count": 11,
   "metadata": {},
   "outputs": [
    {
     "data": {
      "image/png": "[encoded data removed]",
      "text/plain": [
       "<Figure size 432x288 with 1 Axes>"
      ]
     },
     "metadata": {
      "needs_background": "light"
     },
     "output_type": "display_data"
    }
   ],
   "source": [
    "boxes('len_bio')"
   ]
  },
  {
   "cell_type": "code",
   "execution_count": 12,
   "metadata": {},
   "outputs": [
    {
     "data": {
      "image/png": "[encoded data removed]",
      "text/plain": [
       "<Figure size 432x288 with 1 Axes>"
      ]
     },
     "metadata": {
      "needs_background": "light"
     },
     "output_type": "display_data"
    }
   ],
   "source": [
    "boxes('emotional_range')"
   ]
  },
  {
   "cell_type": "code",
   "execution_count": 13,
   "metadata": {},
   "outputs": [
    {
     "data": {
      "image/png": "[encoded data removed]",
      "text/plain": [
       "<Figure size 432x288 with 1 Axes>"
      ]
     },
     "metadata": {
      "needs_background": "light"
     },
     "output_type": "display_data"
    }
   ],
   "source": [
    "boxes('ratio_num_user')"
   ]
  },
  {
   "cell_type": "code",
   "execution_count": 258,
   "metadata": {},
   "outputs": [
    {
     "data": {
      "text/plain": [
       "0    0.497063\n",
       "1    0.227025\n",
       "2    0.136661\n",
       "4    0.115516\n",
       "5    0.022501\n",
       "7    0.000572\n",
       "3    0.000271\n",
       "9    0.000241\n",
       "8    0.000090\n",
       "6    0.000060\n",
       "Name: user_group, dtype: float64"
      ]
     },
     "execution_count": 258,
     "metadata": {},
     "output_type": "execute_result"
    }
   ],
   "source": [
    "tweet['user_group'].value_counts(normalize = True)"
   ]
  },
  {
   "cell_type": "code",
   "execution_count": 259,
   "metadata": {},
   "outputs": [],
   "source": [
    "x = [1, 2, 3, 4, 5]\n",
    "y = [0.507335, 0.000361, 0.137414, 0.116389, 0.238501]"
   ]
  },
  {
   "cell_type": "code",
   "execution_count": 260,
   "metadata": {},
   "outputs": [
    {
     "data": {
      "text/plain": [
       "<BarContainer object of 5 artists>"
      ]
     },
     "execution_count": 260,
     "metadata": {},
     "output_type": "execute_result"
    },
    {
     "data": {
      "image/png": "[encoded data removed]",
      "text/plain": [
       "<Figure size 432x288 with 1 Axes>"
      ]
     },
     "metadata": {
      "needs_background": "light"
     },
     "output_type": "display_data"
    }
   ],
   "source": [
    "plt.bar(x, y)"
   ]
  },
  {
   "cell_type": "code",
   "execution_count": 42,
   "metadata": {},
   "outputs": [],
   "source": [
    "def group_hist(column):   \n",
    "    plt.figure(figsize = (10, 20))\n",
    "    title = column.replace('_', ' ').title()\n",
    "    \n",
    "    plt.subplot(5, 1, 1)\n",
    "    plt.hist(tweet[tweet['user_group_db'] == 0][column], color = 'olivedrab')\n",
    "    plt.title(f'Distribution of {title} for Group 1')\n",
    "\n",
    "\n",
    "    plt.subplot(5, 1, 2)\n",
    "    plt.hist(tweet[tweet['user_group_db'] == 1][column], color = 'darkcyan')\n",
    "    plt.title(f'Distribution of {title} for Group 2')\n",
    "\n",
    "    plt.subplot(5, 1, 3)\n",
    "    plt.hist(tweet[tweet['user_group_db'] == 2][column], color = 'mediumpurple')\n",
    "    plt.title(f'Distribution of {title} for Group 3')\n",
    "\n",
    "    plt.subplot(5, 1, 4)\n",
    "    plt.hist(tweet[tweet['user_group_db'] == 3][column], color = 'darkmagenta')\n",
    "    plt.title(f'Distribution of {title} for Group 4')\n",
    "\n",
    "    plt.subplot(5, 1, 5)\n",
    "    plt.hist(tweet[tweet['user_group_db'] == 4][column], color = 'cornflowerblue')\n",
    "    plt.title(f'Distribution of {title} for Group 5')"
   ]
  },
  {
   "cell_type": "code",
   "execution_count": 43,
   "metadata": {},
   "outputs": [
    {
     "data": {
      "image/png": "[encoded data removed]",
      "text/plain": [
       "<Figure size 720x1440 with 5 Axes>"
      ]
     },
     "metadata": {
      "needs_background": "light"
     },
     "output_type": "display_data"
    }
   ],
   "source": [
    "group_hist('text_sentiment')"
   ]
  },
  {
   "cell_type": "code",
   "execution_count": 44,
   "metadata": {},
   "outputs": [
    {
     "data": {
      "image/png": "[encoded data removed]",
      "text/plain": [
       "<Figure size 720x1440 with 5 Axes>"
      ]
     },
     "metadata": {
      "needs_background": "light"
     },
     "output_type": "display_data"
    }
   ],
   "source": [
    "group_hist('emotional_range')"
   ]
  },
  {
   "cell_type": "code",
   "execution_count": 45,
   "metadata": {},
   "outputs": [
    {
     "data": {
      "image/png": "[encoded data removed]",
      "text/plain": [
       "<Figure size 720x1440 with 5 Axes>"
      ]
     },
     "metadata": {
      "needs_background": "light"
     },
     "output_type": "display_data"
    }
   ],
   "source": [
    "group_hist('len_bio')"
   ]
  },
  {
   "cell_type": "code",
   "execution_count": 46,
   "metadata": {},
   "outputs": [
    {
     "data": {
      "text/plain": [
       "Index(['id', 'time', 'author', 'author_id', 'associated_tweet', 'text',\n",
       "       'links', 'hashtags', 'mentions', 'reply_count', 'favorite_count',\n",
       "       'retweet_count', 'day', 'not_english', 'hashtag_count', 'mention_count',\n",
       "       'word_count', 'char_count', 'link_count', 'text_sentiment',\n",
       "       'text_links_removed', 'clean_text', 'clean_word_count',\n",
       "       'clean_char_count', 'user_tweets', 'user_following', 'user_followers',\n",
       "       'user_favorites', 'len_user', 'big_feelings', 'ratio', 'has_url',\n",
       "       'has_location', 'has_bio', 'len_bio', 'ratio_num_user',\n",
       "       'emotional_range', 'user_group_db', 'user_group', 'target'],\n",
       "      dtype='object')"
      ]
     },
     "execution_count": 46,
     "metadata": {},
     "output_type": "execute_result"
    }
   ],
   "source": [
    "tweet.columns"
   ]
  },
  {
   "cell_type": "code",
   "execution_count": 47,
   "metadata": {},
   "outputs": [
    {
     "data": {
      "image/png": "[encoded data removed]",
      "text/plain": [
       "<Figure size 720x1440 with 5 Axes>"
      ]
     },
     "metadata": {
      "needs_background": "light"
     },
     "output_type": "display_data"
    }
   ],
   "source": [
    "group_hist('hashtag_count')"
   ]
  },
  {
   "cell_type": "code",
   "execution_count": 48,
   "metadata": {},
   "outputs": [
    {
     "data": {
      "image/png": "[encoded data removed]",
      "text/plain": [
       "<Figure size 720x1440 with 5 Axes>"
      ]
     },
     "metadata": {
      "needs_background": "light"
     },
     "output_type": "display_data"
    }
   ],
   "source": [
    "group_hist('not_english')"
   ]
  },
  {
   "cell_type": "code",
   "execution_count": 61,
   "metadata": {},
   "outputs": [
    {
     "data": {
      "image/png": "[encoded data removed]",
      "text/plain": [
       "<Figure size 720x1440 with 5 Axes>"
      ]
     },
     "metadata": {
      "needs_background": "light"
     },
     "output_type": "display_data"
    }
   ],
   "source": [
    "group_hist('big_feelings')"
   ]
  },
  {
   "cell_type": "code",
   "execution_count": 147,
   "metadata": {},
   "outputs": [
    {
     "data": {
      "text/plain": [
       "user_group\n",
       "0      22.011271\n",
       "1      43.187475\n",
       "2       2.920432\n",
       "3    2413.444444\n",
       "4       9.179140\n",
       "5     186.301205\n",
       "6     219.000000\n",
       "7      57.578947\n",
       "8    3330.333333\n",
       "9       3.625000\n",
       "Name: target, dtype: float64"
      ]
     },
     "execution_count": 147,
     "metadata": {},
     "output_type": "execute_result"
    }
   ],
   "source": [
    "tweet.groupby('user_group')['target'].mean().sort_index()"
   ]
  },
  {
   "cell_type": "code",
   "execution_count": 77,
   "metadata": {},
   "outputs": [],
   "source": [
    "def avg_bar(column):\n",
    "    title = column.replace('_', ' ').title()\n",
    "    x = [str(_) for _ in range(0, 4)]\n",
    "    y = []\n",
    "    for i in range(4):\n",
    "        y.append(tweet[tweet['user_group_db'] == i][column].mean())\n",
    "    print(x, y)\n",
    "    print(tweet.groupby('user_group_db')[column].mean())\n",
    "    plt.bar(x, y, color = 'lightseagreen')\n",
    "    plt.title(f'Average {title} by Group')"
   ]
  },
  {
   "cell_type": "code",
   "execution_count": 78,
   "metadata": {},
   "outputs": [
    {
     "data": {
      "text/plain": [
       " 0    16418\n",
       " 3     7342\n",
       " 1     4247\n",
       "-1     1903\n",
       " 4     1768\n",
       " 2     1521\n",
       "Name: user_group_db, dtype: int64"
      ]
     },
     "execution_count": 78,
     "metadata": {},
     "output_type": "execute_result"
    }
   ],
   "source": [
    "tweet['user_group_db'].value_counts()"
   ]
  },
  {
   "cell_type": "code",
   "execution_count": 79,
   "metadata": {},
   "outputs": [
    {
     "name": "stdout",
     "output_type": "stream",
     "text": [
      "['0', '1', '2', '3'] [21.81794372030698, 2.70614551448081, 8.134122287968442, 30.80318714246799]\n",
      "user_group_db\n",
      "-1    148.223857\n",
      " 0     21.817944\n",
      " 1      2.706146\n",
      " 2      8.134122\n",
      " 3     30.803187\n",
      " 4     10.931561\n",
      "Name: target, dtype: float64\n"
     ]
    },
    {
     "data": {
      "image/png": "[encoded data removed]",
      "text/plain": [
       "<Figure size 432x288 with 1 Axes>"
      ]
     },
     "metadata": {
      "needs_background": "light"
     },
     "output_type": "display_data"
    }
   ],
   "source": [
    "avg_bar('target')"
   ]
  },
  {
   "cell_type": "code",
   "execution_count": 80,
   "metadata": {},
   "outputs": [
    {
     "name": "stdout",
     "output_type": "stream",
     "text": [
      "['0', '1', '2', '3'] [1.6219927916879124, 1.1271925673498397, 2.8137503565216226, 11.895563533013183]\n",
      "user_group_db\n",
      "-1    723.734861\n",
      " 0      1.621993\n",
      " 1      1.127193\n",
      " 2      2.813750\n",
      " 3     11.895564\n",
      " 4      1.995957\n",
      "Name: ratio, dtype: float64\n"
     ]
    },
    {
     "data": {
      "image/png": "[encoded data removed]",
      "text/plain": [
       "<Figure size 432x288 with 1 Axes>"
      ]
     },
     "metadata": {
      "needs_background": "light"
     },
     "output_type": "display_data"
    }
   ],
   "source": [
    "avg_bar('ratio')"
   ]
  },
  {
   "cell_type": "code",
   "execution_count": 81,
   "metadata": {},
   "outputs": [
    {
     "name": "stdout",
     "output_type": "stream",
     "text": [
      "['0', '1', '2', '3'] [3.9985990985503714, 0.27360489757475864, 1.370808678500986, 5.4846090983383275]\n",
      "user_group_db\n",
      "-1    27.337888\n",
      " 0     3.998599\n",
      " 1     0.273605\n",
      " 2     1.370809\n",
      " 3     5.484609\n",
      " 4     2.361425\n",
      "Name: retweet_count, dtype: float64\n"
     ]
    },
    {
     "data": {
      "image/png": "[encoded data removed]",
      "text/plain": [
       "<Figure size 432x288 with 1 Axes>"
      ]
     },
     "metadata": {
      "needs_background": "light"
     },
     "output_type": "display_data"
    }
   ],
   "source": [
    "avg_bar('retweet_count')"
   ]
  },
  {
   "cell_type": "code",
   "execution_count": 82,
   "metadata": {},
   "outputs": [
    {
     "name": "stdout",
     "output_type": "stream",
     "text": [
      "['0', '1', '2', '3'] [1517.171397246924, 242.59336001883682, 1763.0, 7704.470307818033]\n",
      "user_group_db\n",
      "-1    370580.234367\n",
      " 0      1517.171397\n",
      " 1       242.593360\n",
      " 2      1763.000000\n",
      " 3      7704.470308\n",
      " 4       977.067308\n",
      "Name: user_followers, dtype: float64\n"
     ]
    },
    {
     "data": {
      "image/png": "[encoded data removed]",
      "text/plain": [
       "<Figure size 432x288 with 1 Axes>"
      ]
     },
     "metadata": {
      "needs_background": "light"
     },
     "output_type": "display_data"
    }
   ],
   "source": [
    "avg_bar('user_followers')"
   ]
  },
  {
   "cell_type": "code",
   "execution_count": 83,
   "metadata": {},
   "outputs": [
    {
     "name": "stdout",
     "output_type": "stream",
     "text": [
      "['0', '1', '2', '3'] [21.81794372030698, 2.70614551448081, 8.134122287968442, 30.80318714246799]\n",
      "user_group_db\n",
      "-1    148.223857\n",
      " 0     21.817944\n",
      " 1      2.706146\n",
      " 2      8.134122\n",
      " 3     30.803187\n",
      " 4     10.931561\n",
      "Name: target, dtype: float64\n"
     ]
    },
    {
     "data": {
      "image/png": "[encoded data removed]",
      "text/plain": [
       "<Figure size 432x288 with 1 Axes>"
      ]
     },
     "metadata": {
      "needs_background": "light"
     },
     "output_type": "display_data"
    }
   ],
   "source": [
    "avg_bar('target')"
   ]
  },
  {
   "cell_type": "code",
   "execution_count": 84,
   "metadata": {},
   "outputs": [
    {
     "name": "stdout",
     "output_type": "stream",
     "text": [
      "['0', '1', '2', '3'] [-0.0445260750395906, -0.04874725688721446, -0.014521630506245881, 0.018601675292835677]\n",
      "user_group_db\n",
      "-1   -0.057507\n",
      " 0   -0.044526\n",
      " 1   -0.048747\n",
      " 2   -0.014522\n",
      " 3    0.018602\n",
      " 4   -0.056170\n",
      "Name: text_sentiment, dtype: float64\n"
     ]
    },
    {
     "data": {
      "image/png": "[encoded data removed]",
      "text/plain": [
       "<Figure size 432x288 with 1 Axes>"
      ]
     },
     "metadata": {
      "needs_background": "light"
     },
     "output_type": "display_data"
    }
   ],
   "source": [
    "avg_bar('text_sentiment')"
   ]
  },
  {
   "cell_type": "code",
   "execution_count": 85,
   "metadata": {},
   "outputs": [
    {
     "name": "stdout",
     "output_type": "stream",
     "text": [
      "['0', '1', '2', '3'] [86.77335850895359, 3.0, 48.17422748191979, 105.83601198583493]\n",
      "user_group_db\n",
      "-1     71.158697\n",
      " 0     86.773359\n",
      " 1      3.000000\n",
      " 2     48.174227\n",
      " 3    105.836012\n",
      " 4     87.115385\n",
      "Name: len_bio, dtype: float64\n"
     ]
    },
    {
     "data": {
      "image/png": "[encoded data removed]",
      "text/plain": [
       "<Figure size 432x288 with 1 Axes>"
      ]
     },
     "metadata": {
      "needs_background": "light"
     },
     "output_type": "display_data"
    }
   ],
   "source": [
    "avg_bar('len_bio')"
   ]
  },
  {
   "cell_type": "code",
   "execution_count": 86,
   "metadata": {},
   "outputs": [
    {
     "name": "stdout",
     "output_type": "stream",
     "text": [
      "['0', '1', '2', '3'] [0.0, 0.0, 1.0, 1.0]\n",
      "user_group_db\n",
      "-1    0.459275\n",
      " 0    0.000000\n",
      " 1    0.000000\n",
      " 2    1.000000\n",
      " 3    1.000000\n",
      " 4    0.000000\n",
      "Name: has_url, dtype: float64\n"
     ]
    },
    {
     "data": {
      "image/png": "[encoded data removed]",
      "text/plain": [
       "<Figure size 432x288 with 1 Axes>"
      ]
     },
     "metadata": {
      "needs_background": "light"
     },
     "output_type": "display_data"
    }
   ],
   "source": [
    "avg_bar('has_url')"
   ]
  },
  {
   "cell_type": "code",
   "execution_count": 87,
   "metadata": {},
   "outputs": [
    {
     "name": "stdout",
     "output_type": "stream",
     "text": [
      "['0', '1', '2', '3'] [1.6219927916879124, 1.1271925673498397, 2.8137503565216226, 11.895563533013183]\n",
      "user_group_db\n",
      "-1    723.734861\n",
      " 0      1.621993\n",
      " 1      1.127193\n",
      " 2      2.813750\n",
      " 3     11.895564\n",
      " 4      1.995957\n",
      "Name: ratio, dtype: float64\n"
     ]
    },
    {
     "data": {
      "image/png": "[encoded data removed]",
      "text/plain": [
       "<Figure size 432x288 with 1 Axes>"
      ]
     },
     "metadata": {
      "needs_background": "light"
     },
     "output_type": "display_data"
    }
   ],
   "source": [
    "avg_bar('ratio')"
   ]
  },
  {
   "cell_type": "code",
   "execution_count": 88,
   "metadata": {},
   "outputs": [
    {
     "name": "stdout",
     "output_type": "stream",
     "text": [
      "['0', '1', '2', '3'] [0.2636740163235473, 0.1756534024016953, 0.40236686390532544, 0.42250068101334787]\n",
      "user_group_db\n",
      "-1    0.291645\n",
      " 0    0.263674\n",
      " 1    0.175653\n",
      " 2    0.402367\n",
      " 3    0.422501\n",
      " 4    0.326923\n",
      "Name: hashtag_count, dtype: float64\n"
     ]
    },
    {
     "data": {
      "image/png": "[encoded data removed]",
      "text/plain": [
       "<Figure size 432x288 with 1 Axes>"
      ]
     },
     "metadata": {
      "needs_background": "light"
     },
     "output_type": "display_data"
    }
   ],
   "source": [
    "avg_bar('hashtag_count')"
   ]
  },
  {
   "cell_type": "code",
   "execution_count": 89,
   "metadata": {},
   "outputs": [
    {
     "name": "stdout",
     "output_type": "stream",
     "text": [
      "['0', '1', '2', '3'] [0.14703374345230844, 0.14574994113491876, 0.2024983563445102, 0.17719967311359303]\n",
      "user_group_db\n",
      "-1    0.177614\n",
      " 0    0.147034\n",
      " 1    0.145750\n",
      " 2    0.202498\n",
      " 3    0.177200\n",
      " 4    0.187783\n",
      "Name: mention_count, dtype: float64\n"
     ]
    },
    {
     "data": {
      "image/png": "[encoded data removed]",
      "text/plain": [
       "<Figure size 432x288 with 1 Axes>"
      ]
     },
     "metadata": {
      "needs_background": "light"
     },
     "output_type": "display_data"
    }
   ],
   "source": [
    "avg_bar('mention_count')"
   ]
  },
  {
   "cell_type": "code",
   "execution_count": 90,
   "metadata": {},
   "outputs": [
    {
     "name": "stdout",
     "output_type": "stream",
     "text": [
      "['0', '1', '2', '3'] [25.19417712267024, 25.222745467388744, 26.662721893491124, 25.865567965132115]\n",
      "user_group_db\n",
      "-1    25.036784\n",
      " 0    25.194177\n",
      " 1    25.222745\n",
      " 2    26.662722\n",
      " 3    25.865568\n",
      " 4    26.228507\n",
      "Name: word_count, dtype: float64\n"
     ]
    },
    {
     "data": {
      "image/png": "[encoded data removed]",
      "text/plain": [
       "<Figure size 432x288 with 1 Axes>"
      ]
     },
     "metadata": {
      "needs_background": "light"
     },
     "output_type": "display_data"
    }
   ],
   "source": [
    "avg_bar('word_count')"
   ]
  },
  {
   "cell_type": "code",
   "execution_count": 91,
   "metadata": {},
   "outputs": [
    {
     "name": "stdout",
     "output_type": "stream",
     "text": [
      "['0', '1', '2', '3'] [13.755573151419174, 13.638568401224394, 15.233399079552926, 14.798283846363388]\n",
      "user_group_db\n",
      "-1    14.448765\n",
      " 0    13.755573\n",
      " 1    13.638568\n",
      " 2    15.233399\n",
      " 3    14.798284\n",
      " 4    14.377262\n",
      "Name: clean_word_count, dtype: float64\n"
     ]
    },
    {
     "data": {
      "image/png": "[encoded data removed]",
      "text/plain": [
       "<Figure size 432x288 with 1 Axes>"
      ]
     },
     "metadata": {
      "needs_background": "light"
     },
     "output_type": "display_data"
    }
   ],
   "source": [
    "avg_bar('clean_word_count')"
   ]
  },
  {
   "cell_type": "code",
   "execution_count": 92,
   "metadata": {
    "scrolled": true
   },
   "outputs": [
    {
     "name": "stdout",
     "output_type": "stream",
     "text": [
      "['0', '1', '2', '3'] [21658.28822024607, 9938.902990346127, 5862.596318211703, 21168.660174339417]\n",
      "user_group_db\n",
      "-1    62749.298476\n",
      " 0    21658.288220\n",
      " 1     9938.902990\n",
      " 2     5862.596318\n",
      " 3    21168.660174\n",
      " 4    16992.484729\n",
      "Name: user_favorites, dtype: float64\n"
     ]
    },
    {
     "data": {
      "image/png": "[encoded data removed]",
      "text/plain": [
       "<Figure size 432x288 with 1 Axes>"
      ]
     },
     "metadata": {
      "needs_background": "light"
     },
     "output_type": "display_data"
    }
   ],
   "source": [
    "avg_bar('user_favorites')"
   ]
  },
  {
   "cell_type": "code",
   "execution_count": 93,
   "metadata": {},
   "outputs": [
    {
     "name": "stdout",
     "output_type": "stream",
     "text": [
      "['0', '1', '2', '3'] [18275.88055792423, 7826.889098186955, 5983.867192636423, 24975.58349223645]\n",
      "user_group_db\n",
      "-1    168309.098791\n",
      " 0     18275.880558\n",
      " 1      7826.889098\n",
      " 2      5983.867193\n",
      " 3     24975.583492\n",
      " 4     12211.299774\n",
      "Name: user_tweets, dtype: float64\n"
     ]
    },
    {
     "data": {
      "image/png": "[encoded data removed]",
      "text/plain": [
       "<Figure size 432x288 with 1 Axes>"
      ]
     },
     "metadata": {
      "needs_background": "light"
     },
     "output_type": "display_data"
    }
   ],
   "source": [
    "avg_bar('user_tweets')"
   ]
  },
  {
   "cell_type": "code",
   "execution_count": 94,
   "metadata": {},
   "outputs": [
    {
     "name": "stdout",
     "output_type": "stream",
     "text": [
      "['0', '1', '2', '3'] [0.0, 0.0, 1.0, 0.0]\n",
      "user_group_db\n",
      "-1    0.304256\n",
      " 0    0.000000\n",
      " 1    0.000000\n",
      " 2    1.000000\n",
      " 3    0.000000\n",
      " 4    1.000000\n",
      "Name: has_location, dtype: float64\n"
     ]
    },
    {
     "data": {
      "image/png": "[encoded data removed]",
      "text/plain": [
       "<Figure size 432x288 with 1 Axes>"
      ]
     },
     "metadata": {
      "needs_background": "light"
     },
     "output_type": "display_data"
    }
   ],
   "source": [
    "avg_bar('has_location')"
   ]
  },
  {
   "cell_type": "code",
   "execution_count": 95,
   "metadata": {},
   "outputs": [
    {
     "data": {
      "text/plain": [
       "array(['ArachuCastro', 'KVPR', 'RutiRegan', ..., 'LonnChalant', 'PJmeeks',\n",
       "       'realRyanShear'], dtype=object)"
      ]
     },
     "execution_count": 95,
     "metadata": {},
     "output_type": "execute_result"
    }
   ],
   "source": [
    "tweet[tweet['user_group'] == 1]['author'].unique()"
   ]
  },
  {
   "cell_type": "code",
   "execution_count": 41,
   "metadata": {},
   "outputs": [
    {
     "data": {
      "text/html": [
       "<div>\n",
       "<style scoped>\n",
       "    .dataframe tbody tr th:only-of-type {\n",
       "        vertical-align: middle;\n",
       "    }\n",
       "\n",
       "    .dataframe tbody tr th {\n",
       "        vertical-align: top;\n",
       "    }\n",
       "\n",
       "    .dataframe thead th {\n",
       "        text-align: right;\n",
       "    }\n",
       "</style>\n",
       "<table border=\"1\" class=\"dataframe\">\n",
       "  <thead>\n",
       "    <tr style=\"text-align: right;\">\n",
       "      <th></th>\n",
       "      <th>author</th>\n",
       "      <th>user_followers</th>\n",
       "      <th>ratio</th>\n",
       "    </tr>\n",
       "  </thead>\n",
       "  <tbody>\n",
       "    <tr>\n",
       "      <th>8926</th>\n",
       "      <td>LAist</td>\n",
       "      <td>786032</td>\n",
       "      <td>254.296991</td>\n",
       "    </tr>\n",
       "    <tr>\n",
       "      <th>1331</th>\n",
       "      <td>ForeignAffairs</td>\n",
       "      <td>748417</td>\n",
       "      <td>373.648028</td>\n",
       "    </tr>\n",
       "    <tr>\n",
       "      <th>3435</th>\n",
       "      <td>TeamCanada</td>\n",
       "      <td>731390</td>\n",
       "      <td>376.810922</td>\n",
       "    </tr>\n",
       "    <tr>\n",
       "      <th>21147</th>\n",
       "      <td>sjokz</td>\n",
       "      <td>688395</td>\n",
       "      <td>541.616837</td>\n",
       "    </tr>\n",
       "    <tr>\n",
       "      <th>13002</th>\n",
       "      <td>FreeformTV</td>\n",
       "      <td>687465</td>\n",
       "      <td>805.937866</td>\n",
       "    </tr>\n",
       "    <tr>\n",
       "      <th>5566</th>\n",
       "      <td>PadmaLakshmi</td>\n",
       "      <td>662787</td>\n",
       "      <td>425.955656</td>\n",
       "    </tr>\n",
       "    <tr>\n",
       "      <th>22434</th>\n",
       "      <td>500Startups</td>\n",
       "      <td>648281</td>\n",
       "      <td>216.816388</td>\n",
       "    </tr>\n",
       "    <tr>\n",
       "      <th>2907</th>\n",
       "      <td>danpfeiffer</td>\n",
       "      <td>634546</td>\n",
       "      <td>179.554612</td>\n",
       "    </tr>\n",
       "    <tr>\n",
       "      <th>17582</th>\n",
       "      <td>AprilDRyan</td>\n",
       "      <td>630616</td>\n",
       "      <td>121.365666</td>\n",
       "    </tr>\n",
       "    <tr>\n",
       "      <th>22666</th>\n",
       "      <td>NatashaBertrand</td>\n",
       "      <td>630216</td>\n",
       "      <td>121.172082</td>\n",
       "    </tr>\n",
       "    <tr>\n",
       "      <th>26442</th>\n",
       "      <td>Lunaa</td>\n",
       "      <td>528905</td>\n",
       "      <td>1162.428571</td>\n",
       "    </tr>\n",
       "    <tr>\n",
       "      <th>20686</th>\n",
       "      <td>SPIN</td>\n",
       "      <td>483760</td>\n",
       "      <td>421.393728</td>\n",
       "    </tr>\n",
       "    <tr>\n",
       "      <th>4773</th>\n",
       "      <td>thewhitmore</td>\n",
       "      <td>444956</td>\n",
       "      <td>346.538941</td>\n",
       "    </tr>\n",
       "    <tr>\n",
       "      <th>30535</th>\n",
       "      <td>thewhitmore</td>\n",
       "      <td>444956</td>\n",
       "      <td>346.538941</td>\n",
       "    </tr>\n",
       "    <tr>\n",
       "      <th>20906</th>\n",
       "      <td>ASlavitt</td>\n",
       "      <td>439849</td>\n",
       "      <td>450.664959</td>\n",
       "    </tr>\n",
       "    <tr>\n",
       "      <th>19591</th>\n",
       "      <td>ASlavitt</td>\n",
       "      <td>439849</td>\n",
       "      <td>450.664959</td>\n",
       "    </tr>\n",
       "    <tr>\n",
       "      <th>19609</th>\n",
       "      <td>Mimirocah1</td>\n",
       "      <td>416239</td>\n",
       "      <td>143.234343</td>\n",
       "    </tr>\n",
       "    <tr>\n",
       "      <th>22064</th>\n",
       "      <td>wsvn</td>\n",
       "      <td>403865</td>\n",
       "      <td>369.163620</td>\n",
       "    </tr>\n",
       "    <tr>\n",
       "      <th>21696</th>\n",
       "      <td>BrookingsInst</td>\n",
       "      <td>390886</td>\n",
       "      <td>88.596102</td>\n",
       "    </tr>\n",
       "    <tr>\n",
       "      <th>3575</th>\n",
       "      <td>mikebettes</td>\n",
       "      <td>377423</td>\n",
       "      <td>764.014170</td>\n",
       "    </tr>\n",
       "  </tbody>\n",
       "</table>\n",
       "</div>"
      ],
      "text/plain": [
       "                author  user_followers        ratio\n",
       "8926             LAist          786032   254.296991\n",
       "1331    ForeignAffairs          748417   373.648028\n",
       "3435        TeamCanada          731390   376.810922\n",
       "21147            sjokz          688395   541.616837\n",
       "13002       FreeformTV          687465   805.937866\n",
       "5566      PadmaLakshmi          662787   425.955656\n",
       "22434      500Startups          648281   216.816388\n",
       "2907       danpfeiffer          634546   179.554612\n",
       "17582       AprilDRyan          630616   121.365666\n",
       "22666  NatashaBertrand          630216   121.172082\n",
       "26442            Lunaa          528905  1162.428571\n",
       "20686             SPIN          483760   421.393728\n",
       "4773       thewhitmore          444956   346.538941\n",
       "30535      thewhitmore          444956   346.538941\n",
       "20906         ASlavitt          439849   450.664959\n",
       "19591         ASlavitt          439849   450.664959\n",
       "19609       Mimirocah1          416239   143.234343\n",
       "22064             wsvn          403865   369.163620\n",
       "21696    BrookingsInst          390886    88.596102\n",
       "3575        mikebettes          377423   764.014170"
      ]
     },
     "execution_count": 41,
     "metadata": {},
     "output_type": "execute_result"
    }
   ],
   "source": [
    "tweet[tweet['user_group_db'] == 3][['author', 'user_followers', 'ratio']].sort_values('user_followers', ascending = False)[:20]"
   ]
  },
  {
   "cell_type": "code",
   "execution_count": 295,
   "metadata": {},
   "outputs": [
    {
     "data": {
      "text/plain": [
       "user_group\n",
       "0      22.011271\n",
       "1      43.187475\n",
       "2       2.920432\n",
       "3    2413.444444\n",
       "4       9.179140\n",
       "5     186.301205\n",
       "6     219.000000\n",
       "7      57.578947\n",
       "8    3330.333333\n",
       "9       3.625000\n",
       "Name: target, dtype: float64"
      ]
     },
     "execution_count": 295,
     "metadata": {},
     "output_type": "execute_result"
    }
   ],
   "source": [
    "tweet.groupby('user_group')['target'].mean()"
   ]
  },
  {
   "cell_type": "code",
   "execution_count": 285,
   "metadata": {},
   "outputs": [
    {
     "data": {
      "text/html": [
       "<div>\n",
       "<style scoped>\n",
       "    .dataframe tbody tr th:only-of-type {\n",
       "        vertical-align: middle;\n",
       "    }\n",
       "\n",
       "    .dataframe tbody tr th {\n",
       "        vertical-align: top;\n",
       "    }\n",
       "\n",
       "    .dataframe thead th {\n",
       "        text-align: right;\n",
       "    }\n",
       "</style>\n",
       "<table border=\"1\" class=\"dataframe\">\n",
       "  <thead>\n",
       "    <tr style=\"text-align: right;\">\n",
       "      <th></th>\n",
       "      <th>author</th>\n",
       "      <th>user_followers</th>\n",
       "      <th>ratio</th>\n",
       "    </tr>\n",
       "  </thead>\n",
       "  <tbody>\n",
       "    <tr>\n",
       "      <th>19299</th>\n",
       "      <td>waltshaub</td>\n",
       "      <td>502382</td>\n",
       "      <td>387.043143</td>\n",
       "    </tr>\n",
       "    <tr>\n",
       "      <th>23699</th>\n",
       "      <td>waltshaub</td>\n",
       "      <td>502382</td>\n",
       "      <td>387.043143</td>\n",
       "    </tr>\n",
       "    <tr>\n",
       "      <th>27099</th>\n",
       "      <td>StarWorldIndia</td>\n",
       "      <td>501160</td>\n",
       "      <td>20881.666667</td>\n",
       "    </tr>\n",
       "    <tr>\n",
       "      <th>3050</th>\n",
       "      <td>BrookeBCNN</td>\n",
       "      <td>316570</td>\n",
       "      <td>137.043290</td>\n",
       "    </tr>\n",
       "    <tr>\n",
       "      <th>2259</th>\n",
       "      <td>Khanoisseur</td>\n",
       "      <td>145287</td>\n",
       "      <td>14.761939</td>\n",
       "    </tr>\n",
       "    <tr>\n",
       "      <th>13565</th>\n",
       "      <td>Khanoisseur</td>\n",
       "      <td>145287</td>\n",
       "      <td>14.761939</td>\n",
       "    </tr>\n",
       "    <tr>\n",
       "      <th>24461</th>\n",
       "      <td>4everNeverTrump</td>\n",
       "      <td>136539</td>\n",
       "      <td>69.309137</td>\n",
       "    </tr>\n",
       "    <tr>\n",
       "      <th>18985</th>\n",
       "      <td>ToryFibs</td>\n",
       "      <td>132664</td>\n",
       "      <td>6.735239</td>\n",
       "    </tr>\n",
       "    <tr>\n",
       "      <th>4462</th>\n",
       "      <td>page88</td>\n",
       "      <td>130268</td>\n",
       "      <td>33.756932</td>\n",
       "    </tr>\n",
       "    <tr>\n",
       "      <th>28023</th>\n",
       "      <td>KFANRosen</td>\n",
       "      <td>121595</td>\n",
       "      <td>25.009255</td>\n",
       "    </tr>\n",
       "  </tbody>\n",
       "</table>\n",
       "</div>"
      ],
      "text/plain": [
       "                author  user_followers         ratio\n",
       "19299        waltshaub          502382    387.043143\n",
       "23699        waltshaub          502382    387.043143\n",
       "27099   StarWorldIndia          501160  20881.666667\n",
       "3050        BrookeBCNN          316570    137.043290\n",
       "2259       Khanoisseur          145287     14.761939\n",
       "13565      Khanoisseur          145287     14.761939\n",
       "24461  4everNeverTrump          136539     69.309137\n",
       "18985         ToryFibs          132664      6.735239\n",
       "4462            page88          130268     33.756932\n",
       "28023        KFANRosen          121595     25.009255"
      ]
     },
     "execution_count": 285,
     "metadata": {},
     "output_type": "execute_result"
    }
   ],
   "source": [
    "tweet[tweet['user_group'] == 0][['author', 'user_followers', 'ratio']].sort_values('user_followers', \n",
    "                                                                                   ascending = False)[:10]"
   ]
  },
  {
   "cell_type": "code",
   "execution_count": 286,
   "metadata": {},
   "outputs": [
    {
     "data": {
      "text/html": [
       "<div>\n",
       "<style scoped>\n",
       "    .dataframe tbody tr th:only-of-type {\n",
       "        vertical-align: middle;\n",
       "    }\n",
       "\n",
       "    .dataframe tbody tr th {\n",
       "        vertical-align: top;\n",
       "    }\n",
       "\n",
       "    .dataframe thead th {\n",
       "        text-align: right;\n",
       "    }\n",
       "</style>\n",
       "<table border=\"1\" class=\"dataframe\">\n",
       "  <thead>\n",
       "    <tr style=\"text-align: right;\">\n",
       "      <th></th>\n",
       "      <th>author</th>\n",
       "      <th>user_followers</th>\n",
       "      <th>ratio</th>\n",
       "    </tr>\n",
       "  </thead>\n",
       "  <tbody>\n",
       "    <tr>\n",
       "      <th>9082</th>\n",
       "      <td>petewentz</td>\n",
       "      <td>6420093</td>\n",
       "      <td>14362.624161</td>\n",
       "    </tr>\n",
       "    <tr>\n",
       "      <th>26044</th>\n",
       "      <td>Alyssa_Milano</td>\n",
       "      <td>3699209</td>\n",
       "      <td>761.310764</td>\n",
       "    </tr>\n",
       "    <tr>\n",
       "      <th>11868</th>\n",
       "      <td>WebMD</td>\n",
       "      <td>3154581</td>\n",
       "      <td>7769.903941</td>\n",
       "    </tr>\n",
       "    <tr>\n",
       "      <th>31322</th>\n",
       "      <td>neilhimself</td>\n",
       "      <td>2809155</td>\n",
       "      <td>3181.375991</td>\n",
       "    </tr>\n",
       "    <tr>\n",
       "      <th>8547</th>\n",
       "      <td>epicurious</td>\n",
       "      <td>2757519</td>\n",
       "      <td>13386.014563</td>\n",
       "    </tr>\n",
       "    <tr>\n",
       "      <th>...</th>\n",
       "      <td>...</td>\n",
       "      <td>...</td>\n",
       "      <td>...</td>\n",
       "    </tr>\n",
       "    <tr>\n",
       "      <th>29852</th>\n",
       "      <td>RbcMichaelTsui</td>\n",
       "      <td>1</td>\n",
       "      <td>0.500000</td>\n",
       "    </tr>\n",
       "    <tr>\n",
       "      <th>25307</th>\n",
       "      <td>inzamul328</td>\n",
       "      <td>1</td>\n",
       "      <td>0.008065</td>\n",
       "    </tr>\n",
       "    <tr>\n",
       "      <th>31817</th>\n",
       "      <td>Gloria_R_Grante</td>\n",
       "      <td>1</td>\n",
       "      <td>0.250000</td>\n",
       "    </tr>\n",
       "    <tr>\n",
       "      <th>8510</th>\n",
       "      <td>Campus_Gists_TV</td>\n",
       "      <td>1</td>\n",
       "      <td>0.010204</td>\n",
       "    </tr>\n",
       "    <tr>\n",
       "      <th>24202</th>\n",
       "      <td>cocoabtterkiss1</td>\n",
       "      <td>1</td>\n",
       "      <td>1.000000</td>\n",
       "    </tr>\n",
       "  </tbody>\n",
       "</table>\n",
       "<p>7537 rows × 3 columns</p>\n",
       "</div>"
      ],
      "text/plain": [
       "                author  user_followers         ratio\n",
       "9082         petewentz         6420093  14362.624161\n",
       "26044    Alyssa_Milano         3699209    761.310764\n",
       "11868            WebMD         3154581   7769.903941\n",
       "31322      neilhimself         2809155   3181.375991\n",
       "8547        epicurious         2757519  13386.014563\n",
       "...                ...             ...           ...\n",
       "29852   RbcMichaelTsui               1      0.500000\n",
       "25307       inzamul328               1      0.008065\n",
       "31817  Gloria_R_Grante               1      0.250000\n",
       "8510   Campus_Gists_TV               1      0.010204\n",
       "24202  cocoabtterkiss1               1      1.000000\n",
       "\n",
       "[7537 rows x 3 columns]"
      ]
     },
     "execution_count": 286,
     "metadata": {},
     "output_type": "execute_result"
    }
   ],
   "source": [
    "tweet[tweet['user_group'] == 1][['author', 'user_followers', 'ratio']].sort_values('user_followers', \n",
    "                                                                                   ascending = False)"
   ]
  },
  {
   "cell_type": "code",
   "execution_count": 287,
   "metadata": {},
   "outputs": [
    {
     "data": {
      "text/html": [
       "<div>\n",
       "<style scoped>\n",
       "    .dataframe tbody tr th:only-of-type {\n",
       "        vertical-align: middle;\n",
       "    }\n",
       "\n",
       "    .dataframe tbody tr th {\n",
       "        vertical-align: top;\n",
       "    }\n",
       "\n",
       "    .dataframe thead th {\n",
       "        text-align: right;\n",
       "    }\n",
       "</style>\n",
       "<table border=\"1\" class=\"dataframe\">\n",
       "  <thead>\n",
       "    <tr style=\"text-align: right;\">\n",
       "      <th></th>\n",
       "      <th>author</th>\n",
       "      <th>user_followers</th>\n",
       "      <th>ratio</th>\n",
       "    </tr>\n",
       "  </thead>\n",
       "  <tbody>\n",
       "    <tr>\n",
       "      <th>11307</th>\n",
       "      <td>ScienceAlert</td>\n",
       "      <td>90835</td>\n",
       "      <td>258.053977</td>\n",
       "    </tr>\n",
       "    <tr>\n",
       "      <th>373</th>\n",
       "      <td>kat_chaps</td>\n",
       "      <td>72826</td>\n",
       "      <td>1.640780</td>\n",
       "    </tr>\n",
       "    <tr>\n",
       "      <th>30725</th>\n",
       "      <td>sophhearfield</td>\n",
       "      <td>52835</td>\n",
       "      <td>22.032944</td>\n",
       "    </tr>\n",
       "    <tr>\n",
       "      <th>5502</th>\n",
       "      <td>Fxhedgers</td>\n",
       "      <td>44870</td>\n",
       "      <td>747.833333</td>\n",
       "    </tr>\n",
       "    <tr>\n",
       "      <th>2752</th>\n",
       "      <td>Cianaf</td>\n",
       "      <td>40612</td>\n",
       "      <td>211.520833</td>\n",
       "    </tr>\n",
       "    <tr>\n",
       "      <th>6221</th>\n",
       "      <td>capcrunchbeats</td>\n",
       "      <td>28416</td>\n",
       "      <td>44.679245</td>\n",
       "    </tr>\n",
       "    <tr>\n",
       "      <th>5811</th>\n",
       "      <td>Angelux1111</td>\n",
       "      <td>22817</td>\n",
       "      <td>1.155057</td>\n",
       "    </tr>\n",
       "    <tr>\n",
       "      <th>1622</th>\n",
       "      <td>choclitbody</td>\n",
       "      <td>19310</td>\n",
       "      <td>32.023217</td>\n",
       "    </tr>\n",
       "    <tr>\n",
       "      <th>19069</th>\n",
       "      <td>NatashaLopezPR</td>\n",
       "      <td>17458</td>\n",
       "      <td>29.193980</td>\n",
       "    </tr>\n",
       "    <tr>\n",
       "      <th>15588</th>\n",
       "      <td>FrakerMonica</td>\n",
       "      <td>17044</td>\n",
       "      <td>1.093475</td>\n",
       "    </tr>\n",
       "  </tbody>\n",
       "</table>\n",
       "</div>"
      ],
      "text/plain": [
       "               author  user_followers       ratio\n",
       "11307    ScienceAlert           90835  258.053977\n",
       "373         kat_chaps           72826    1.640780\n",
       "30725   sophhearfield           52835   22.032944\n",
       "5502        Fxhedgers           44870  747.833333\n",
       "2752           Cianaf           40612  211.520833\n",
       "6221   capcrunchbeats           28416   44.679245\n",
       "5811      Angelux1111           22817    1.155057\n",
       "1622      choclitbody           19310   32.023217\n",
       "19069  NatashaLopezPR           17458   29.193980\n",
       "15588    FrakerMonica           17044    1.093475"
      ]
     },
     "execution_count": 287,
     "metadata": {},
     "output_type": "execute_result"
    }
   ],
   "source": [
    "tweet[tweet['user_group'] == 2][['author', 'user_followers', 'ratio']].sort_values('user_followers', \n",
    "                                                                                   ascending = False)[:10]"
   ]
  },
  {
   "cell_type": "code",
   "execution_count": 288,
   "metadata": {},
   "outputs": [
    {
     "data": {
      "text/html": [
       "<div>\n",
       "<style scoped>\n",
       "    .dataframe tbody tr th:only-of-type {\n",
       "        vertical-align: middle;\n",
       "    }\n",
       "\n",
       "    .dataframe tbody tr th {\n",
       "        vertical-align: top;\n",
       "    }\n",
       "\n",
       "    .dataframe thead th {\n",
       "        text-align: right;\n",
       "    }\n",
       "</style>\n",
       "<table border=\"1\" class=\"dataframe\">\n",
       "  <thead>\n",
       "    <tr style=\"text-align: right;\">\n",
       "      <th></th>\n",
       "      <th>author</th>\n",
       "      <th>user_followers</th>\n",
       "      <th>ratio</th>\n",
       "    </tr>\n",
       "  </thead>\n",
       "  <tbody>\n",
       "    <tr>\n",
       "      <th>688</th>\n",
       "      <td>CNN</td>\n",
       "      <td>48010205</td>\n",
       "      <td>43408.865280</td>\n",
       "    </tr>\n",
       "    <tr>\n",
       "      <th>2226</th>\n",
       "      <td>CNN</td>\n",
       "      <td>48010205</td>\n",
       "      <td>43408.865280</td>\n",
       "    </tr>\n",
       "    <tr>\n",
       "      <th>17176</th>\n",
       "      <td>CNN</td>\n",
       "      <td>48010205</td>\n",
       "      <td>43408.865280</td>\n",
       "    </tr>\n",
       "    <tr>\n",
       "      <th>18215</th>\n",
       "      <td>CNN</td>\n",
       "      <td>48010205</td>\n",
       "      <td>43408.865280</td>\n",
       "    </tr>\n",
       "    <tr>\n",
       "      <th>21057</th>\n",
       "      <td>CNN</td>\n",
       "      <td>48010205</td>\n",
       "      <td>43408.865280</td>\n",
       "    </tr>\n",
       "    <tr>\n",
       "      <th>23502</th>\n",
       "      <td>CNN</td>\n",
       "      <td>48010205</td>\n",
       "      <td>43408.865280</td>\n",
       "    </tr>\n",
       "    <tr>\n",
       "      <th>24046</th>\n",
       "      <td>CNN</td>\n",
       "      <td>48010205</td>\n",
       "      <td>43408.865280</td>\n",
       "    </tr>\n",
       "    <tr>\n",
       "      <th>28388</th>\n",
       "      <td>CNN</td>\n",
       "      <td>48010205</td>\n",
       "      <td>43408.865280</td>\n",
       "    </tr>\n",
       "    <tr>\n",
       "      <th>21386</th>\n",
       "      <td>EmmaWatson</td>\n",
       "      <td>29161374</td>\n",
       "      <td>74013.639594</td>\n",
       "    </tr>\n",
       "  </tbody>\n",
       "</table>\n",
       "</div>"
      ],
      "text/plain": [
       "           author  user_followers         ratio\n",
       "688           CNN        48010205  43408.865280\n",
       "2226          CNN        48010205  43408.865280\n",
       "17176         CNN        48010205  43408.865280\n",
       "18215         CNN        48010205  43408.865280\n",
       "21057         CNN        48010205  43408.865280\n",
       "23502         CNN        48010205  43408.865280\n",
       "24046         CNN        48010205  43408.865280\n",
       "28388         CNN        48010205  43408.865280\n",
       "21386  EmmaWatson        29161374  74013.639594"
      ]
     },
     "execution_count": 288,
     "metadata": {},
     "output_type": "execute_result"
    }
   ],
   "source": [
    "tweet[tweet['user_group'] == 3][['author', 'user_followers', 'ratio']].sort_values('user_followers', \n",
    "                                                                                   ascending = False)[:10]"
   ]
  },
  {
   "cell_type": "code",
   "execution_count": 289,
   "metadata": {},
   "outputs": [
    {
     "data": {
      "text/html": [
       "<div>\n",
       "<style scoped>\n",
       "    .dataframe tbody tr th:only-of-type {\n",
       "        vertical-align: middle;\n",
       "    }\n",
       "\n",
       "    .dataframe tbody tr th {\n",
       "        vertical-align: top;\n",
       "    }\n",
       "\n",
       "    .dataframe thead th {\n",
       "        text-align: right;\n",
       "    }\n",
       "</style>\n",
       "<table border=\"1\" class=\"dataframe\">\n",
       "  <thead>\n",
       "    <tr style=\"text-align: right;\">\n",
       "      <th></th>\n",
       "      <th>author</th>\n",
       "      <th>user_followers</th>\n",
       "      <th>ratio</th>\n",
       "    </tr>\n",
       "  </thead>\n",
       "  <tbody>\n",
       "    <tr>\n",
       "      <th>747</th>\n",
       "      <td>DailyHiveTO</td>\n",
       "      <td>326558</td>\n",
       "      <td>77.622534</td>\n",
       "    </tr>\n",
       "    <tr>\n",
       "      <th>18727</th>\n",
       "      <td>CSIS</td>\n",
       "      <td>309481</td>\n",
       "      <td>578.469159</td>\n",
       "    </tr>\n",
       "    <tr>\n",
       "      <th>16054</th>\n",
       "      <td>CBSSunday</td>\n",
       "      <td>233484</td>\n",
       "      <td>557.241050</td>\n",
       "    </tr>\n",
       "    <tr>\n",
       "      <th>31176</th>\n",
       "      <td>NormOrnstein</td>\n",
       "      <td>140402</td>\n",
       "      <td>52.961901</td>\n",
       "    </tr>\n",
       "    <tr>\n",
       "      <th>28980</th>\n",
       "      <td>CBSSacramento</td>\n",
       "      <td>127523</td>\n",
       "      <td>100.332809</td>\n",
       "    </tr>\n",
       "    <tr>\n",
       "      <th>24863</th>\n",
       "      <td>RTDNEWS</td>\n",
       "      <td>117691</td>\n",
       "      <td>175.396423</td>\n",
       "    </tr>\n",
       "    <tr>\n",
       "      <th>24062</th>\n",
       "      <td>TRTWorldNow</td>\n",
       "      <td>82832</td>\n",
       "      <td>8283.200000</td>\n",
       "    </tr>\n",
       "    <tr>\n",
       "      <th>4443</th>\n",
       "      <td>DailySignal</td>\n",
       "      <td>70365</td>\n",
       "      <td>13.818735</td>\n",
       "    </tr>\n",
       "    <tr>\n",
       "      <th>26988</th>\n",
       "      <td>Hope012015</td>\n",
       "      <td>67508</td>\n",
       "      <td>1.083074</td>\n",
       "    </tr>\n",
       "    <tr>\n",
       "      <th>13411</th>\n",
       "      <td>Hope012015</td>\n",
       "      <td>67508</td>\n",
       "      <td>1.083074</td>\n",
       "    </tr>\n",
       "  </tbody>\n",
       "</table>\n",
       "</div>"
      ],
      "text/plain": [
       "              author  user_followers        ratio\n",
       "747      DailyHiveTO          326558    77.622534\n",
       "18727           CSIS          309481   578.469159\n",
       "16054      CBSSunday          233484   557.241050\n",
       "31176   NormOrnstein          140402    52.961901\n",
       "28980  CBSSacramento          127523   100.332809\n",
       "24863        RTDNEWS          117691   175.396423\n",
       "24062    TRTWorldNow           82832  8283.200000\n",
       "4443     DailySignal           70365    13.818735\n",
       "26988     Hope012015           67508     1.083074\n",
       "13411     Hope012015           67508     1.083074"
      ]
     },
     "execution_count": 289,
     "metadata": {},
     "output_type": "execute_result"
    }
   ],
   "source": [
    "tweet[tweet['user_group'] == 4][['author', 'user_followers', 'ratio']].sort_values('user_followers', \n",
    "                                                                                   ascending = False)[:10]"
   ]
  },
  {
   "cell_type": "code",
   "execution_count": 290,
   "metadata": {},
   "outputs": [
    {
     "data": {
      "text/html": [
       "<div>\n",
       "<style scoped>\n",
       "    .dataframe tbody tr th:only-of-type {\n",
       "        vertical-align: middle;\n",
       "    }\n",
       "\n",
       "    .dataframe tbody tr th {\n",
       "        vertical-align: top;\n",
       "    }\n",
       "\n",
       "    .dataframe thead th {\n",
       "        text-align: right;\n",
       "    }\n",
       "</style>\n",
       "<table border=\"1\" class=\"dataframe\">\n",
       "  <thead>\n",
       "    <tr style=\"text-align: right;\">\n",
       "      <th></th>\n",
       "      <th>author</th>\n",
       "      <th>user_followers</th>\n",
       "      <th>ratio</th>\n",
       "    </tr>\n",
       "  </thead>\n",
       "  <tbody>\n",
       "    <tr>\n",
       "      <th>25907</th>\n",
       "      <td>WSJ</td>\n",
       "      <td>17745806</td>\n",
       "      <td>19352.023991</td>\n",
       "    </tr>\n",
       "    <tr>\n",
       "      <th>30193</th>\n",
       "      <td>AP</td>\n",
       "      <td>14099486</td>\n",
       "      <td>2006.473033</td>\n",
       "    </tr>\n",
       "    <tr>\n",
       "      <th>7299</th>\n",
       "      <td>voguemagazine</td>\n",
       "      <td>13783706</td>\n",
       "      <td>26712.608527</td>\n",
       "    </tr>\n",
       "    <tr>\n",
       "      <th>10639</th>\n",
       "      <td>cnni</td>\n",
       "      <td>10623202</td>\n",
       "      <td>28711.356757</td>\n",
       "    </tr>\n",
       "    <tr>\n",
       "      <th>27858</th>\n",
       "      <td>cnni</td>\n",
       "      <td>10623202</td>\n",
       "      <td>28711.356757</td>\n",
       "    </tr>\n",
       "    <tr>\n",
       "      <th>26081</th>\n",
       "      <td>cnni</td>\n",
       "      <td>10623202</td>\n",
       "      <td>28711.356757</td>\n",
       "    </tr>\n",
       "    <tr>\n",
       "      <th>20520</th>\n",
       "      <td>NoticiasCaracol</td>\n",
       "      <td>8713041</td>\n",
       "      <td>7165.329770</td>\n",
       "    </tr>\n",
       "    <tr>\n",
       "      <th>32231</th>\n",
       "      <td>people</td>\n",
       "      <td>7639728</td>\n",
       "      <td>4378.067622</td>\n",
       "    </tr>\n",
       "    <tr>\n",
       "      <th>25647</th>\n",
       "      <td>ABSCBNNews</td>\n",
       "      <td>6913533</td>\n",
       "      <td>6449.191231</td>\n",
       "    </tr>\n",
       "    <tr>\n",
       "      <th>9720</th>\n",
       "      <td>business</td>\n",
       "      <td>6364525</td>\n",
       "      <td>4949.086314</td>\n",
       "    </tr>\n",
       "  </tbody>\n",
       "</table>\n",
       "</div>"
      ],
      "text/plain": [
       "                author  user_followers         ratio\n",
       "25907              WSJ        17745806  19352.023991\n",
       "30193               AP        14099486   2006.473033\n",
       "7299     voguemagazine        13783706  26712.608527\n",
       "10639             cnni        10623202  28711.356757\n",
       "27858             cnni        10623202  28711.356757\n",
       "26081             cnni        10623202  28711.356757\n",
       "20520  NoticiasCaracol         8713041   7165.329770\n",
       "32231           people         7639728   4378.067622\n",
       "25647       ABSCBNNews         6913533   6449.191231\n",
       "9720          business         6364525   4949.086314"
      ]
     },
     "execution_count": 290,
     "metadata": {},
     "output_type": "execute_result"
    }
   ],
   "source": [
    "tweet[tweet['user_group'] == 5][['author', 'user_followers', 'ratio']].sort_values('user_followers', \n",
    "                                                                                   ascending = False)[:10]"
   ]
  },
  {
   "cell_type": "code",
   "execution_count": 291,
   "metadata": {},
   "outputs": [
    {
     "data": {
      "text/html": [
       "<div>\n",
       "<style scoped>\n",
       "    .dataframe tbody tr th:only-of-type {\n",
       "        vertical-align: middle;\n",
       "    }\n",
       "\n",
       "    .dataframe tbody tr th {\n",
       "        vertical-align: top;\n",
       "    }\n",
       "\n",
       "    .dataframe thead th {\n",
       "        text-align: right;\n",
       "    }\n",
       "</style>\n",
       "<table border=\"1\" class=\"dataframe\">\n",
       "  <thead>\n",
       "    <tr style=\"text-align: right;\">\n",
       "      <th></th>\n",
       "      <th>author</th>\n",
       "      <th>user_followers</th>\n",
       "      <th>ratio</th>\n",
       "    </tr>\n",
       "  </thead>\n",
       "  <tbody>\n",
       "    <tr>\n",
       "      <th>1427</th>\n",
       "      <td>DigitalTrends</td>\n",
       "      <td>2162872</td>\n",
       "      <td>1.840642</td>\n",
       "    </tr>\n",
       "    <tr>\n",
       "      <th>15084</th>\n",
       "      <td>SinghLions</td>\n",
       "      <td>1494960</td>\n",
       "      <td>1.001493</td>\n",
       "    </tr>\n",
       "  </tbody>\n",
       "</table>\n",
       "</div>"
      ],
      "text/plain": [
       "              author  user_followers     ratio\n",
       "1427   DigitalTrends         2162872  1.840642\n",
       "15084     SinghLions         1494960  1.001493"
      ]
     },
     "execution_count": 291,
     "metadata": {},
     "output_type": "execute_result"
    }
   ],
   "source": [
    "tweet[tweet['user_group'] == 6][['author', 'user_followers', 'ratio']].sort_values('user_followers', \n",
    "                                                                                   ascending = False)[:10]"
   ]
  },
  {
   "cell_type": "code",
   "execution_count": 292,
   "metadata": {},
   "outputs": [
    {
     "data": {
      "text/html": [
       "<div>\n",
       "<style scoped>\n",
       "    .dataframe tbody tr th:only-of-type {\n",
       "        vertical-align: middle;\n",
       "    }\n",
       "\n",
       "    .dataframe tbody tr th {\n",
       "        vertical-align: top;\n",
       "    }\n",
       "\n",
       "    .dataframe thead th {\n",
       "        text-align: right;\n",
       "    }\n",
       "</style>\n",
       "<table border=\"1\" class=\"dataframe\">\n",
       "  <thead>\n",
       "    <tr style=\"text-align: right;\">\n",
       "      <th></th>\n",
       "      <th>author</th>\n",
       "      <th>user_followers</th>\n",
       "      <th>ratio</th>\n",
       "    </tr>\n",
       "  </thead>\n",
       "  <tbody>\n",
       "    <tr>\n",
       "      <th>23861</th>\n",
       "      <td>etnow</td>\n",
       "      <td>1587935</td>\n",
       "      <td>4.980069</td>\n",
       "    </tr>\n",
       "    <tr>\n",
       "      <th>6834</th>\n",
       "      <td>ThatEricAlper</td>\n",
       "      <td>699531</td>\n",
       "      <td>2.060875</td>\n",
       "    </tr>\n",
       "    <tr>\n",
       "      <th>4126</th>\n",
       "      <td>jilevin</td>\n",
       "      <td>605173</td>\n",
       "      <td>1.187373</td>\n",
       "    </tr>\n",
       "    <tr>\n",
       "      <th>25284</th>\n",
       "      <td>jilevin</td>\n",
       "      <td>605173</td>\n",
       "      <td>1.187373</td>\n",
       "    </tr>\n",
       "    <tr>\n",
       "      <th>18576</th>\n",
       "      <td>PalmerReport</td>\n",
       "      <td>321713</td>\n",
       "      <td>1.721781</td>\n",
       "    </tr>\n",
       "    <tr>\n",
       "      <th>5305</th>\n",
       "      <td>fxp123</td>\n",
       "      <td>314301</td>\n",
       "      <td>1.079905</td>\n",
       "    </tr>\n",
       "    <tr>\n",
       "      <th>11328</th>\n",
       "      <td>cvheady007</td>\n",
       "      <td>288523</td>\n",
       "      <td>0.906370</td>\n",
       "    </tr>\n",
       "    <tr>\n",
       "      <th>2248</th>\n",
       "      <td>eliistender10</td>\n",
       "      <td>275424</td>\n",
       "      <td>1.038485</td>\n",
       "    </tr>\n",
       "    <tr>\n",
       "      <th>15864</th>\n",
       "      <td>absoluteradio</td>\n",
       "      <td>269530</td>\n",
       "      <td>1.725511</td>\n",
       "    </tr>\n",
       "    <tr>\n",
       "      <th>31298</th>\n",
       "      <td>Free_Media_Hub</td>\n",
       "      <td>263310</td>\n",
       "      <td>1.109552</td>\n",
       "    </tr>\n",
       "  </tbody>\n",
       "</table>\n",
       "</div>"
      ],
      "text/plain": [
       "               author  user_followers     ratio\n",
       "23861           etnow         1587935  4.980069\n",
       "6834    ThatEricAlper          699531  2.060875\n",
       "4126          jilevin          605173  1.187373\n",
       "25284         jilevin          605173  1.187373\n",
       "18576    PalmerReport          321713  1.721781\n",
       "5305           fxp123          314301  1.079905\n",
       "11328      cvheady007          288523  0.906370\n",
       "2248    eliistender10          275424  1.038485\n",
       "15864   absoluteradio          269530  1.725511\n",
       "31298  Free_Media_Hub          263310  1.109552"
      ]
     },
     "execution_count": 292,
     "metadata": {},
     "output_type": "execute_result"
    }
   ],
   "source": [
    "tweet[tweet['user_group'] == 7][['author', 'user_followers', 'ratio']].sort_values('user_followers', \n",
    "                                                                                   ascending = False)[:10]"
   ]
  },
  {
   "cell_type": "code",
   "execution_count": 293,
   "metadata": {},
   "outputs": [
    {
     "data": {
      "text/html": [
       "<div>\n",
       "<style scoped>\n",
       "    .dataframe tbody tr th:only-of-type {\n",
       "        vertical-align: middle;\n",
       "    }\n",
       "\n",
       "    .dataframe tbody tr th {\n",
       "        vertical-align: top;\n",
       "    }\n",
       "\n",
       "    .dataframe thead th {\n",
       "        text-align: right;\n",
       "    }\n",
       "</style>\n",
       "<table border=\"1\" class=\"dataframe\">\n",
       "  <thead>\n",
       "    <tr style=\"text-align: right;\">\n",
       "      <th></th>\n",
       "      <th>author</th>\n",
       "      <th>user_followers</th>\n",
       "      <th>ratio</th>\n",
       "    </tr>\n",
       "  </thead>\n",
       "  <tbody>\n",
       "    <tr>\n",
       "      <th>5088</th>\n",
       "      <td>paulkrugman</td>\n",
       "      <td>4618435</td>\n",
       "      <td>83971.545455</td>\n",
       "    </tr>\n",
       "    <tr>\n",
       "      <th>18310</th>\n",
       "      <td>TwitterMoments</td>\n",
       "      <td>786944</td>\n",
       "      <td>78694.400000</td>\n",
       "    </tr>\n",
       "    <tr>\n",
       "      <th>1001</th>\n",
       "      <td>DrinkingQuest</td>\n",
       "      <td>122473</td>\n",
       "      <td>122473.000000</td>\n",
       "    </tr>\n",
       "  </tbody>\n",
       "</table>\n",
       "</div>"
      ],
      "text/plain": [
       "               author  user_followers          ratio\n",
       "5088      paulkrugman         4618435   83971.545455\n",
       "18310  TwitterMoments          786944   78694.400000\n",
       "1001    DrinkingQuest          122473  122473.000000"
      ]
     },
     "execution_count": 293,
     "metadata": {},
     "output_type": "execute_result"
    }
   ],
   "source": [
    "tweet[tweet['user_group'] == 8][['author', 'user_followers', 'ratio']].sort_values('user_followers', \n",
    "                                                                                   ascending = False)[:10]"
   ]
  },
  {
   "cell_type": "code",
   "execution_count": 294,
   "metadata": {},
   "outputs": [
    {
     "data": {
      "text/html": [
       "<div>\n",
       "<style scoped>\n",
       "    .dataframe tbody tr th:only-of-type {\n",
       "        vertical-align: middle;\n",
       "    }\n",
       "\n",
       "    .dataframe tbody tr th {\n",
       "        vertical-align: top;\n",
       "    }\n",
       "\n",
       "    .dataframe thead th {\n",
       "        text-align: right;\n",
       "    }\n",
       "</style>\n",
       "<table border=\"1\" class=\"dataframe\">\n",
       "  <thead>\n",
       "    <tr style=\"text-align: right;\">\n",
       "      <th></th>\n",
       "      <th>author</th>\n",
       "      <th>user_followers</th>\n",
       "      <th>ratio</th>\n",
       "    </tr>\n",
       "  </thead>\n",
       "  <tbody>\n",
       "    <tr>\n",
       "      <th>29807</th>\n",
       "      <td>Airtel_Presence</td>\n",
       "      <td>418392</td>\n",
       "      <td>5.196319</td>\n",
       "    </tr>\n",
       "    <tr>\n",
       "      <th>33092</th>\n",
       "      <td>Chris_1791</td>\n",
       "      <td>76750</td>\n",
       "      <td>1.753564</td>\n",
       "    </tr>\n",
       "    <tr>\n",
       "      <th>26059</th>\n",
       "      <td>TomthunkitsMind</td>\n",
       "      <td>70832</td>\n",
       "      <td>1.047160</td>\n",
       "    </tr>\n",
       "    <tr>\n",
       "      <th>28222</th>\n",
       "      <td>TomthunkitsMind</td>\n",
       "      <td>70832</td>\n",
       "      <td>1.047160</td>\n",
       "    </tr>\n",
       "    <tr>\n",
       "      <th>31025</th>\n",
       "      <td>TomthunkitsMind</td>\n",
       "      <td>70832</td>\n",
       "      <td>1.047160</td>\n",
       "    </tr>\n",
       "    <tr>\n",
       "      <th>4701</th>\n",
       "      <td>filafresh</td>\n",
       "      <td>7413</td>\n",
       "      <td>1.757051</td>\n",
       "    </tr>\n",
       "    <tr>\n",
       "      <th>30126</th>\n",
       "      <td>Uskeus</td>\n",
       "      <td>4905</td>\n",
       "      <td>21.897321</td>\n",
       "    </tr>\n",
       "    <tr>\n",
       "      <th>10684</th>\n",
       "      <td>PulpNews</td>\n",
       "      <td>4752</td>\n",
       "      <td>5.049947</td>\n",
       "    </tr>\n",
       "  </tbody>\n",
       "</table>\n",
       "</div>"
      ],
      "text/plain": [
       "                author  user_followers      ratio\n",
       "29807  Airtel_Presence          418392   5.196319\n",
       "33092       Chris_1791           76750   1.753564\n",
       "26059  TomthunkitsMind           70832   1.047160\n",
       "28222  TomthunkitsMind           70832   1.047160\n",
       "31025  TomthunkitsMind           70832   1.047160\n",
       "4701         filafresh            7413   1.757051\n",
       "30126           Uskeus            4905  21.897321\n",
       "10684         PulpNews            4752   5.049947"
      ]
     },
     "execution_count": 294,
     "metadata": {},
     "output_type": "execute_result"
    }
   ],
   "source": [
    "tweet[tweet['user_group'] == 9][['author', 'user_followers', 'ratio']].sort_values('user_followers', \n",
    "                                                                                   ascending = False)[:10]"
   ]
  },
  {
   "cell_type": "code",
   "execution_count": 296,
   "metadata": {},
   "outputs": [
    {
     "data": {
      "text/plain": [
       "Index(['id', 'time', 'author', 'author_id', 'associated_tweet', 'text',\n",
       "       'links', 'hashtags', 'mentions', 'reply_count', 'favorite_count',\n",
       "       'retweet_count', 'day', 'not_english', 'hashtag_count', 'mention_count',\n",
       "       'word_count', 'char_count', 'link_count', 'text_sentiment',\n",
       "       'text_links_removed', 'clean_text', 'clean_word_count',\n",
       "       'clean_char_count', 'user_tweets', 'user_following', 'user_followers',\n",
       "       'user_favorites', 'len_user', 'big_feelings', 'ratio', 'has_url',\n",
       "       'has_location', 'has_bio', 'len_bio', 'ratio_num_user',\n",
       "       'emotional_range', 'user_group', 'target'],\n",
       "      dtype='object')"
      ]
     },
     "execution_count": 296,
     "metadata": {},
     "output_type": "execute_result"
    }
   ],
   "source": [
    "tweet.columns"
   ]
  },
  {
   "cell_type": "code",
   "execution_count": 297,
   "metadata": {},
   "outputs": [],
   "source": [
    "col_of_interest = ['not_english', 'hashtag_count', 'mention_count',\n",
    "       'word_count', 'char_count', 'link_count', 'text_sentiment',\n",
    "       'text_links_removed', 'clean_text', 'clean_word_count',\n",
    "       'clean_char_count', 'user_tweets', 'user_following', 'user_followers',\n",
    "       'user_favorites', 'len_user', 'big_feelings', 'ratio', 'has_url',\n",
    "       'has_location', 'has_bio', 'len_bio', 'ratio_num_user',\n",
    "       'emotional_range', 'user_group', 'target']"
   ]
  },
  {
   "cell_type": "code",
   "execution_count": 301,
   "metadata": {},
   "outputs": [
    {
     "data": {
      "text/html": [
       "<div>\n",
       "<style scoped>\n",
       "    .dataframe tbody tr th:only-of-type {\n",
       "        vertical-align: middle;\n",
       "    }\n",
       "\n",
       "    .dataframe tbody tr th {\n",
       "        vertical-align: top;\n",
       "    }\n",
       "\n",
       "    .dataframe thead th {\n",
       "        text-align: right;\n",
       "    }\n",
       "</style>\n",
       "<table border=\"1\" class=\"dataframe\">\n",
       "  <thead>\n",
       "    <tr style=\"text-align: right;\">\n",
       "      <th>user_group</th>\n",
       "      <th>0</th>\n",
       "      <th>1</th>\n",
       "      <th>2</th>\n",
       "      <th>3</th>\n",
       "      <th>4</th>\n",
       "      <th>5</th>\n",
       "      <th>6</th>\n",
       "      <th>7</th>\n",
       "      <th>8</th>\n",
       "      <th>9</th>\n",
       "    </tr>\n",
       "  </thead>\n",
       "  <tbody>\n",
       "    <tr>\n",
       "      <th>not_english</th>\n",
       "      <td>0.268766</td>\n",
       "      <td>0.284814</td>\n",
       "      <td>0.261553</td>\n",
       "      <td>2.972889e-01</td>\n",
       "      <td>0.273386</td>\n",
       "      <td>0.309598</td>\n",
       "      <td>3.633500e-01</td>\n",
       "      <td>0.311558</td>\n",
       "      <td>2.296000e-01</td>\n",
       "      <td>3.418375e-01</td>\n",
       "    </tr>\n",
       "    <tr>\n",
       "      <th>hashtag_count</th>\n",
       "      <td>0.264029</td>\n",
       "      <td>0.423909</td>\n",
       "      <td>0.182940</td>\n",
       "      <td>1.111111e-01</td>\n",
       "      <td>0.343155</td>\n",
       "      <td>0.277108</td>\n",
       "      <td>5.000000e-01</td>\n",
       "      <td>0.526316</td>\n",
       "      <td>0.000000e+00</td>\n",
       "      <td>6.250000e-01</td>\n",
       "    </tr>\n",
       "    <tr>\n",
       "      <th>mention_count</th>\n",
       "      <td>0.147315</td>\n",
       "      <td>0.178055</td>\n",
       "      <td>0.147675</td>\n",
       "      <td>0.000000e+00</td>\n",
       "      <td>0.190613</td>\n",
       "      <td>0.180723</td>\n",
       "      <td>0.000000e+00</td>\n",
       "      <td>0.052632</td>\n",
       "      <td>3.333333e-01</td>\n",
       "      <td>1.250000e-01</td>\n",
       "    </tr>\n",
       "    <tr>\n",
       "      <th>word_count</th>\n",
       "      <td>25.207672</td>\n",
       "      <td>25.854982</td>\n",
       "      <td>25.134009</td>\n",
       "      <td>2.700000e+01</td>\n",
       "      <td>26.272229</td>\n",
       "      <td>24.783133</td>\n",
       "      <td>2.750000e+01</td>\n",
       "      <td>24.578947</td>\n",
       "      <td>3.100000e+01</td>\n",
       "      <td>2.887500e+01</td>\n",
       "    </tr>\n",
       "    <tr>\n",
       "      <th>char_count</th>\n",
       "      <td>159.923706</td>\n",
       "      <td>176.062624</td>\n",
       "      <td>157.675336</td>\n",
       "      <td>1.897778e+02</td>\n",
       "      <td>171.563233</td>\n",
       "      <td>189.682731</td>\n",
       "      <td>2.530000e+02</td>\n",
       "      <td>221.421053</td>\n",
       "      <td>1.870000e+02</td>\n",
       "      <td>2.112500e+02</td>\n",
       "    </tr>\n",
       "    <tr>\n",
       "      <th>link_count</th>\n",
       "      <td>0.260574</td>\n",
       "      <td>0.434390</td>\n",
       "      <td>0.226361</td>\n",
       "      <td>1.000000e+00</td>\n",
       "      <td>0.307692</td>\n",
       "      <td>0.580991</td>\n",
       "      <td>1.000000e+00</td>\n",
       "      <td>0.894737</td>\n",
       "      <td>3.333333e-01</td>\n",
       "      <td>1.000000e+00</td>\n",
       "    </tr>\n",
       "    <tr>\n",
       "      <th>text_sentiment</th>\n",
       "      <td>-0.044822</td>\n",
       "      <td>0.017591</td>\n",
       "      <td>-0.046005</td>\n",
       "      <td>5.614444e-02</td>\n",
       "      <td>-0.039716</td>\n",
       "      <td>-0.091008</td>\n",
       "      <td>1.438500e-01</td>\n",
       "      <td>0.192347</td>\n",
       "      <td>4.409667e-01</td>\n",
       "      <td>-2.500000e-01</td>\n",
       "    </tr>\n",
       "    <tr>\n",
       "      <th>clean_word_count</th>\n",
       "      <td>13.769907</td>\n",
       "      <td>14.817699</td>\n",
       "      <td>13.620454</td>\n",
       "      <td>1.588889e+01</td>\n",
       "      <td>14.647718</td>\n",
       "      <td>14.650602</td>\n",
       "      <td>1.850000e+01</td>\n",
       "      <td>15.052632</td>\n",
       "      <td>1.400000e+01</td>\n",
       "      <td>2.025000e+01</td>\n",
       "    </tr>\n",
       "    <tr>\n",
       "      <th>clean_char_count</th>\n",
       "      <td>95.628833</td>\n",
       "      <td>103.407191</td>\n",
       "      <td>94.241790</td>\n",
       "      <td>1.278889e+02</td>\n",
       "      <td>102.244068</td>\n",
       "      <td>103.113788</td>\n",
       "      <td>1.395000e+02</td>\n",
       "      <td>104.105263</td>\n",
       "      <td>9.866667e+01</td>\n",
       "      <td>1.332500e+02</td>\n",
       "    </tr>\n",
       "    <tr>\n",
       "      <th>user_tweets</th>\n",
       "      <td>18573.650345</td>\n",
       "      <td>27298.330237</td>\n",
       "      <td>9918.824774</td>\n",
       "      <td>2.669228e+05</td>\n",
       "      <td>11844.400782</td>\n",
       "      <td>320867.457831</td>\n",
       "      <td>1.064520e+05</td>\n",
       "      <td>200692.473684</td>\n",
       "      <td>4.599233e+04</td>\n",
       "      <td>2.339873e+06</td>\n",
       "    </tr>\n",
       "    <tr>\n",
       "      <th>user_following</th>\n",
       "      <td>1447.190038</td>\n",
       "      <td>1852.876609</td>\n",
       "      <td>436.637866</td>\n",
       "      <td>1.026889e+03</td>\n",
       "      <td>1045.263885</td>\n",
       "      <td>10473.251673</td>\n",
       "      <td>1.333898e+06</td>\n",
       "      <td>257515.684211</td>\n",
       "      <td>2.200000e+01</td>\n",
       "      <td>4.157438e+04</td>\n",
       "    </tr>\n",
       "    <tr>\n",
       "      <th>user_followers</th>\n",
       "      <td>1717.959762</td>\n",
       "      <td>16214.417540</td>\n",
       "      <td>350.929910</td>\n",
       "      <td>4.591589e+07</td>\n",
       "      <td>1548.995046</td>\n",
       "      <td>272640.062918</td>\n",
       "      <td>1.828916e+06</td>\n",
       "      <td>380140.210526</td>\n",
       "      <td>1.842617e+06</td>\n",
       "      <td>9.058850e+04</td>\n",
       "    </tr>\n",
       "    <tr>\n",
       "      <th>user_favorites</th>\n",
       "      <td>21966.123197</td>\n",
       "      <td>21680.874884</td>\n",
       "      <td>11380.980384</td>\n",
       "      <td>1.397556e+03</td>\n",
       "      <td>13410.835984</td>\n",
       "      <td>109200.178046</td>\n",
       "      <td>1.973100e+04</td>\n",
       "      <td>40930.526316</td>\n",
       "      <td>2.117700e+04</td>\n",
       "      <td>2.033375e+04</td>\n",
       "    </tr>\n",
       "    <tr>\n",
       "      <th>len_user</th>\n",
       "      <td>11.080354</td>\n",
       "      <td>11.147804</td>\n",
       "      <td>10.994490</td>\n",
       "      <td>3.777778e+00</td>\n",
       "      <td>11.293090</td>\n",
       "      <td>10.425703</td>\n",
       "      <td>1.150000e+01</td>\n",
       "      <td>10.210526</td>\n",
       "      <td>1.266667e+01</td>\n",
       "      <td>1.162500e+01</td>\n",
       "    </tr>\n",
       "    <tr>\n",
       "      <th>big_feelings</th>\n",
       "      <td>0.263639</td>\n",
       "      <td>0.267317</td>\n",
       "      <td>0.263383</td>\n",
       "      <td>2.417052e-01</td>\n",
       "      <td>0.265179</td>\n",
       "      <td>0.278118</td>\n",
       "      <td>2.326858e-01</td>\n",
       "      <td>0.272933</td>\n",
       "      <td>2.352800e-01</td>\n",
       "      <td>3.762780e-01</td>\n",
       "    </tr>\n",
       "    <tr>\n",
       "      <th>ratio</th>\n",
       "      <td>3.128720</td>\n",
       "      <td>36.380967</td>\n",
       "      <td>1.296911</td>\n",
       "      <td>4.680940e+04</td>\n",
       "      <td>4.425286</td>\n",
       "      <td>600.601519</td>\n",
       "      <td>1.421067e+00</td>\n",
       "      <td>1.435050</td>\n",
       "      <td>9.504632e+04</td>\n",
       "      <td>4.849460e+00</td>\n",
       "    </tr>\n",
       "    <tr>\n",
       "      <th>has_url</th>\n",
       "      <td>0.000000</td>\n",
       "      <td>1.000000</td>\n",
       "      <td>0.053339</td>\n",
       "      <td>1.000000e+00</td>\n",
       "      <td>0.409909</td>\n",
       "      <td>0.467202</td>\n",
       "      <td>1.000000e+00</td>\n",
       "      <td>0.894737</td>\n",
       "      <td>1.000000e+00</td>\n",
       "      <td>7.500000e-01</td>\n",
       "    </tr>\n",
       "    <tr>\n",
       "      <th>has_location</th>\n",
       "      <td>0.000000</td>\n",
       "      <td>0.000000</td>\n",
       "      <td>0.000000</td>\n",
       "      <td>0.000000e+00</td>\n",
       "      <td>1.000000</td>\n",
       "      <td>0.041499</td>\n",
       "      <td>0.000000e+00</td>\n",
       "      <td>0.052632</td>\n",
       "      <td>3.333333e-01</td>\n",
       "      <td>0.000000e+00</td>\n",
       "    </tr>\n",
       "    <tr>\n",
       "      <th>has_bio</th>\n",
       "      <td>1.000000</td>\n",
       "      <td>1.000000</td>\n",
       "      <td>0.000000</td>\n",
       "      <td>8.888889e-01</td>\n",
       "      <td>0.879270</td>\n",
       "      <td>0.962517</td>\n",
       "      <td>1.000000e+00</td>\n",
       "      <td>1.000000</td>\n",
       "      <td>1.000000e+00</td>\n",
       "      <td>1.000000e+00</td>\n",
       "    </tr>\n",
       "    <tr>\n",
       "      <th>len_bio</th>\n",
       "      <td>86.982669</td>\n",
       "      <td>106.191854</td>\n",
       "      <td>3.000000</td>\n",
       "      <td>1.372222e+02</td>\n",
       "      <td>62.360104</td>\n",
       "      <td>111.558233</td>\n",
       "      <td>1.120000e+02</td>\n",
       "      <td>133.000000</td>\n",
       "      <td>1.186667e+02</td>\n",
       "      <td>1.185000e+02</td>\n",
       "    </tr>\n",
       "    <tr>\n",
       "      <th>ratio_num_user</th>\n",
       "      <td>0.092256</td>\n",
       "      <td>0.032627</td>\n",
       "      <td>0.135306</td>\n",
       "      <td>0.000000e+00</td>\n",
       "      <td>0.114614</td>\n",
       "      <td>0.064617</td>\n",
       "      <td>0.000000e+00</td>\n",
       "      <td>0.057721</td>\n",
       "      <td>0.000000e+00</td>\n",
       "      <td>5.000000e-02</td>\n",
       "    </tr>\n",
       "    <tr>\n",
       "      <th>emotional_range</th>\n",
       "      <td>0.019186</td>\n",
       "      <td>0.019386</td>\n",
       "      <td>0.019102</td>\n",
       "      <td>1.257778e-02</td>\n",
       "      <td>0.019135</td>\n",
       "      <td>0.017852</td>\n",
       "      <td>2.460000e-02</td>\n",
       "      <td>0.014932</td>\n",
       "      <td>1.780000e-02</td>\n",
       "      <td>1.682500e-02</td>\n",
       "    </tr>\n",
       "    <tr>\n",
       "      <th>user_group</th>\n",
       "      <td>0.000000</td>\n",
       "      <td>1.000000</td>\n",
       "      <td>2.000000</td>\n",
       "      <td>3.000000e+00</td>\n",
       "      <td>4.000000</td>\n",
       "      <td>5.000000</td>\n",
       "      <td>6.000000e+00</td>\n",
       "      <td>7.000000</td>\n",
       "      <td>8.000000e+00</td>\n",
       "      <td>9.000000e+00</td>\n",
       "    </tr>\n",
       "    <tr>\n",
       "      <th>target</th>\n",
       "      <td>22.011271</td>\n",
       "      <td>43.187475</td>\n",
       "      <td>2.920432</td>\n",
       "      <td>2.413444e+03</td>\n",
       "      <td>9.179140</td>\n",
       "      <td>186.301205</td>\n",
       "      <td>2.190000e+02</td>\n",
       "      <td>57.578947</td>\n",
       "      <td>3.330333e+03</td>\n",
       "      <td>3.625000e+00</td>\n",
       "    </tr>\n",
       "  </tbody>\n",
       "</table>\n",
       "</div>"
      ],
      "text/plain": [
       "user_group                   0             1             2             3  \\\n",
       "not_english           0.268766      0.284814      0.261553  2.972889e-01   \n",
       "hashtag_count         0.264029      0.423909      0.182940  1.111111e-01   \n",
       "mention_count         0.147315      0.178055      0.147675  0.000000e+00   \n",
       "word_count           25.207672     25.854982     25.134009  2.700000e+01   \n",
       "char_count          159.923706    176.062624    157.675336  1.897778e+02   \n",
       "link_count            0.260574      0.434390      0.226361  1.000000e+00   \n",
       "text_sentiment       -0.044822      0.017591     -0.046005  5.614444e-02   \n",
       "clean_word_count     13.769907     14.817699     13.620454  1.588889e+01   \n",
       "clean_char_count     95.628833    103.407191     94.241790  1.278889e+02   \n",
       "user_tweets       18573.650345  27298.330237   9918.824774  2.669228e+05   \n",
       "user_following     1447.190038   1852.876609    436.637866  1.026889e+03   \n",
       "user_followers     1717.959762  16214.417540    350.929910  4.591589e+07   \n",
       "user_favorites    21966.123197  21680.874884  11380.980384  1.397556e+03   \n",
       "len_user             11.080354     11.147804     10.994490  3.777778e+00   \n",
       "big_feelings          0.263639      0.267317      0.263383  2.417052e-01   \n",
       "ratio                 3.128720     36.380967      1.296911  4.680940e+04   \n",
       "has_url               0.000000      1.000000      0.053339  1.000000e+00   \n",
       "has_location          0.000000      0.000000      0.000000  0.000000e+00   \n",
       "has_bio               1.000000      1.000000      0.000000  8.888889e-01   \n",
       "len_bio              86.982669    106.191854      3.000000  1.372222e+02   \n",
       "ratio_num_user        0.092256      0.032627      0.135306  0.000000e+00   \n",
       "emotional_range       0.019186      0.019386      0.019102  1.257778e-02   \n",
       "user_group            0.000000      1.000000      2.000000  3.000000e+00   \n",
       "target               22.011271     43.187475      2.920432  2.413444e+03   \n",
       "\n",
       "user_group                   4              5             6              7  \\\n",
       "not_english           0.273386       0.309598  3.633500e-01       0.311558   \n",
       "hashtag_count         0.343155       0.277108  5.000000e-01       0.526316   \n",
       "mention_count         0.190613       0.180723  0.000000e+00       0.052632   \n",
       "word_count           26.272229      24.783133  2.750000e+01      24.578947   \n",
       "char_count          171.563233     189.682731  2.530000e+02     221.421053   \n",
       "link_count            0.307692       0.580991  1.000000e+00       0.894737   \n",
       "text_sentiment       -0.039716      -0.091008  1.438500e-01       0.192347   \n",
       "clean_word_count     14.647718      14.650602  1.850000e+01      15.052632   \n",
       "clean_char_count    102.244068     103.113788  1.395000e+02     104.105263   \n",
       "user_tweets       11844.400782  320867.457831  1.064520e+05  200692.473684   \n",
       "user_following     1045.263885   10473.251673  1.333898e+06  257515.684211   \n",
       "user_followers     1548.995046  272640.062918  1.828916e+06  380140.210526   \n",
       "user_favorites    13410.835984  109200.178046  1.973100e+04   40930.526316   \n",
       "len_user             11.293090      10.425703  1.150000e+01      10.210526   \n",
       "big_feelings          0.265179       0.278118  2.326858e-01       0.272933   \n",
       "ratio                 4.425286     600.601519  1.421067e+00       1.435050   \n",
       "has_url               0.409909       0.467202  1.000000e+00       0.894737   \n",
       "has_location          1.000000       0.041499  0.000000e+00       0.052632   \n",
       "has_bio               0.879270       0.962517  1.000000e+00       1.000000   \n",
       "len_bio              62.360104     111.558233  1.120000e+02     133.000000   \n",
       "ratio_num_user        0.114614       0.064617  0.000000e+00       0.057721   \n",
       "emotional_range       0.019135       0.017852  2.460000e-02       0.014932   \n",
       "user_group            4.000000       5.000000  6.000000e+00       7.000000   \n",
       "target                9.179140     186.301205  2.190000e+02      57.578947   \n",
       "\n",
       "user_group                   8             9  \n",
       "not_english       2.296000e-01  3.418375e-01  \n",
       "hashtag_count     0.000000e+00  6.250000e-01  \n",
       "mention_count     3.333333e-01  1.250000e-01  \n",
       "word_count        3.100000e+01  2.887500e+01  \n",
       "char_count        1.870000e+02  2.112500e+02  \n",
       "link_count        3.333333e-01  1.000000e+00  \n",
       "text_sentiment    4.409667e-01 -2.500000e-01  \n",
       "clean_word_count  1.400000e+01  2.025000e+01  \n",
       "clean_char_count  9.866667e+01  1.332500e+02  \n",
       "user_tweets       4.599233e+04  2.339873e+06  \n",
       "user_following    2.200000e+01  4.157438e+04  \n",
       "user_followers    1.842617e+06  9.058850e+04  \n",
       "user_favorites    2.117700e+04  2.033375e+04  \n",
       "len_user          1.266667e+01  1.162500e+01  \n",
       "big_feelings      2.352800e-01  3.762780e-01  \n",
       "ratio             9.504632e+04  4.849460e+00  \n",
       "has_url           1.000000e+00  7.500000e-01  \n",
       "has_location      3.333333e-01  0.000000e+00  \n",
       "has_bio           1.000000e+00  1.000000e+00  \n",
       "len_bio           1.186667e+02  1.185000e+02  \n",
       "ratio_num_user    0.000000e+00  5.000000e-02  \n",
       "emotional_range   1.780000e-02  1.682500e-02  \n",
       "user_group        8.000000e+00  9.000000e+00  \n",
       "target            3.330333e+03  3.625000e+00  "
      ]
     },
     "execution_count": 301,
     "metadata": {},
     "output_type": "execute_result"
    }
   ],
   "source": [
    "tweet.groupby('user_group')[col_of_interest].mean().T"
   ]
  },
  {
   "cell_type": "markdown",
   "metadata": {},
   "source": [
    "### LSA"
   ]
  },
  {
   "cell_type": "code",
   "execution_count": 257,
   "metadata": {},
   "outputs": [],
   "source": [
    "stop = ['http', '19', '20','status', 'people', 'would', 'like', 'www','drink', 'said','twitter', 'com', 'https', 'isolation', 'pandemic', 'COVID',\n",
    "            'quarantine','vaccine','coronavirus','lysol','ingest','inject',\n",
    "            'disinfectant','bleach', 'covid', 'pic'] + list(set(stopwords.words('english')))"
   ]
  },
  {
   "cell_type": "code",
   "execution_count": 311,
   "metadata": {},
   "outputs": [],
   "source": [
    "#Help with the LSA section from the LSA LA Flex Lesson\n",
    "\n",
    "#Group 0\n",
    "tf_0 = TfidfVectorizer(stop_words = stop, min_df=10, max_df=.6)\n",
    "tf_text_0 = tf_0.fit_transform(tweet[tweet['user_group_db'] == 0]['text'])\n",
    "text_df_0 = pd.DataFrame(tf_text_0.todense(), columns = tf_0.get_feature_names())\n",
    "SVD_0 = TruncatedSVD(n_components=100)\n",
    "svd_0 = SVD_0.fit_transform(text_df_0)"
   ]
  },
  {
   "cell_type": "code",
   "execution_count": 312,
   "metadata": {},
   "outputs": [],
   "source": [
    "names_0 = [f'comp_{i}' for i in range (1, 101)]\n",
    "components_0 =  pd.DataFrame(svd, columns = names)\n",
    "topics_0 = pd.DataFrame(SVD_0.components_,\n",
    "                        index=names_0,\n",
    "                        columns=text_df_0.columns).T\n",
    "topics_0['abs_comp1'] = np.abs(topics_0['comp_1'])\n",
    "topics_0['abs_comp2'] = np.abs(topics_0['comp_2'])\n",
    "top20 = topics_0['comp_1'].sort_values(ascending = False)[:20].index\n",
    "top40 = topics_0['comp_2'].sort_values(ascending = False)[:20].index\n",
    "top_group_0 = pd.Series(list(top20) + list(top40))"
   ]
  },
  {
   "cell_type": "code",
   "execution_count": 313,
   "metadata": {},
   "outputs": [],
   "source": [
    "#Group 1\n",
    "tf_1 = TfidfVectorizer(stop_words = stop, min_df=10, max_df=.6)\n",
    "tf_text_1 = tf_1.fit_transform(tweet[tweet['user_group_db'] == 1]['text'])\n",
    "text_df_1 = pd.DataFrame(tf_text_1.todense(), columns = tf_1.get_feature_names())\n",
    "SVD_1 = TruncatedSVD(n_components=100)\n",
    "svd_1 = SVD_1.fit_transform(text_df_1)"
   ]
  },
  {
   "cell_type": "code",
   "execution_count": 314,
   "metadata": {},
   "outputs": [],
   "source": [
    "names_1 = [f'comp_{i}' for i in range (1, 101)]\n",
    "components_1 =  pd.DataFrame(svd_1, columns = names_1)\n",
    "topics_1 = pd.DataFrame(SVD_1.components_,\n",
    "                        index=names_1,\n",
    "                        columns=text_df_1.columns).T\n",
    "topics_1['abs_comp1'] = np.abs(topics_1['comp_1'])\n",
    "topics_1['abs_comp2'] = np.abs(topics_1['comp_2'])\n",
    "top20 = topics_1['comp_1'].sort_values(ascending = False)[:20].index\n",
    "top40 = topics_1['comp_2'].sort_values(ascending = False)[:20].index\n",
    "top_group_1 = pd.Series(list(top20) + list(top40))"
   ]
  },
  {
   "cell_type": "code",
   "execution_count": 315,
   "metadata": {},
   "outputs": [],
   "source": [
    "#Group 2\n",
    "tf_2 = TfidfVectorizer(stop_words = stop, min_df=10, max_df=.6)\n",
    "tf_text_2 = tf_2.fit_transform(tweet[tweet['user_group_db'] == 2]['text'])\n",
    "text_df_2 = pd.DataFrame(tf_text_2.todense(), columns = tf_2.get_feature_names())\n",
    "SVD_2 = TruncatedSVD(n_components=100)\n",
    "svd_2 = SVD_2.fit_transform(text_df_2)\n",
    "names_2 = [f'comp_{i}' for i in range (1, 101)]\n",
    "components_2 =  pd.DataFrame(svd_2, columns = names_2)\n",
    "topics_2 = pd.DataFrame(SVD_2.components_,\n",
    "                        index=names_2,\n",
    "                        columns=text_df_2.columns).T\n",
    "topics_2['abs_comp1'] = np.abs(topics_2['comp_1'])\n",
    "topics_2['abs_comp2'] = np.abs(topics_2['comp_2'])\n",
    "top20 = topics_2['comp_1'].sort_values(ascending = False)[:20].index\n",
    "top40 = topics_2['comp_2'].sort_values(ascending = False)[:20].index\n",
    "top_group_2 = pd.Series(list(top20) + list(top40))"
   ]
  },
  {
   "cell_type": "code",
   "execution_count": 316,
   "metadata": {},
   "outputs": [],
   "source": [
    "#Group 3\n",
    "tf_3 = TfidfVectorizer(stop_words = stop, min_df=10, max_df=.6)\n",
    "tf_text_3 = tf_3.fit_transform(tweet[tweet['user_group_db'] == 3]['text'])\n",
    "text_df_3 = pd.DataFrame(tf_text_3.todense(), columns = tf_3.get_feature_names())\n",
    "SVD_3 = TruncatedSVD(n_components=100)\n",
    "svd_3 = SVD_3.fit_transform(text_df_3)\n",
    "names_3 = [f'comp_{i}' for i in range (1, 101)]\n",
    "components_3 =  pd.DataFrame(svd_3, columns = names_3)\n",
    "topics_3 = pd.DataFrame(SVD_3.components_,\n",
    "                        index=names_3,\n",
    "                        columns=text_df_3.columns).T\n",
    "topics_3['abs_comp1'] = np.abs(topics_3['comp_1'])\n",
    "topics_3['abs_comp2'] = np.abs(topics_3['comp_2'])\n",
    "top20 = topics_3['comp_1'].sort_values(ascending = False)[:20].index\n",
    "top40 = topics_3['comp_2'].sort_values(ascending = False)[:20].index\n",
    "top_group_3 = pd.Series(list(top20) + list(top40))"
   ]
  },
  {
   "cell_type": "code",
   "execution_count": 317,
   "metadata": {},
   "outputs": [],
   "source": [
    "#Group -1\n",
    "tf_01 = TfidfVectorizer(stop_words = stop, min_df=10, max_df=.6)\n",
    "tf_text_01 = tf_01.fit_transform(tweet[tweet['user_group_db'] == -1]['text'])\n",
    "text_df_01 = pd.DataFrame(tf_text_01.todense(), columns = tf_01.get_feature_names())\n",
    "SVD_01 = TruncatedSVD(n_components=100)\n",
    "svd_01 = SVD_01.fit_transform(text_df_01)\n",
    "names_01 = [f'comp_{i}' for i in range (1, 101)]\n",
    "components_01 =  pd.DataFrame(svd_01, columns = names_01)\n",
    "topics_01 = pd.DataFrame(SVD_01.components_,\n",
    "                        index=names_01,\n",
    "                        columns=text_df_01.columns).T\n",
    "topics_01['abs_comp1'] = np.abs(topics_01['comp_1'])\n",
    "topics_01['abs_comp2'] = np.abs(topics_01['comp_2'])\n",
    "top20 = topics_01['comp_1'].sort_values(ascending = False)[:20].index\n",
    "top40 = topics_01['comp_2'].sort_values(ascending = False)[:20].index\n",
    "top_group_01 = pd.Series(list(top20) + list(top40))"
   ]
  },
  {
   "cell_type": "code",
   "execution_count": 318,
   "metadata": {},
   "outputs": [],
   "source": [
    "#Group 4\n",
    "tf_4 = TfidfVectorizer(stop_words = stop, min_df=10, max_df=.6)\n",
    "tf_text_4 = tf_4.fit_transform(tweet[tweet['user_group_db'] == 4]['text'])\n",
    "text_df_4 = pd.DataFrame(tf_text_4.todense(), columns = tf_4.get_feature_names())\n",
    "SVD_4 = TruncatedSVD(n_components=100)\n",
    "svd_4 = SVD_4.fit_transform(text_df_4)\n",
    "names_4 = [f'comp_{i}' for i in range (1, 101)]\n",
    "components_4 =  pd.DataFrame(svd_4, columns = names_4)\n",
    "topics_4 = pd.DataFrame(SVD_4.components_,\n",
    "                        index=names_4,\n",
    "                        columns=text_df_4.columns).T\n",
    "topics_4['abs_comp1'] = np.abs(topics_4['comp_1'])\n",
    "topics_4['abs_comp2'] = np.abs(topics_4['comp_2'])\n",
    "top20 = topics_4['comp_1'].sort_values(ascending = False)[:20].index\n",
    "top40 = topics_4['comp_2'].sort_values(ascending = False)[:20].index\n",
    "top_group_4 = pd.Series(list(top20) + list(top40))"
   ]
  },
  {
   "cell_type": "code",
   "execution_count": 319,
   "metadata": {},
   "outputs": [],
   "source": [
    "top_words = pd.concat([top_group_0, top_group_1, top_group_2, top_group_3, top_group_4, top_group_01],\n",
    "                      axis = 1)"
   ]
  },
  {
   "cell_type": "code",
   "execution_count": 320,
   "metadata": {},
   "outputs": [
    {
     "data": {
      "text/html": [
       "<div>\n",
       "<style scoped>\n",
       "    .dataframe tbody tr th:only-of-type {\n",
       "        vertical-align: middle;\n",
       "    }\n",
       "\n",
       "    .dataframe tbody tr th {\n",
       "        vertical-align: top;\n",
       "    }\n",
       "\n",
       "    .dataframe thead th {\n",
       "        text-align: right;\n",
       "    }\n",
       "</style>\n",
       "<table border=\"1\" class=\"dataframe\">\n",
       "  <thead>\n",
       "    <tr style=\"text-align: right;\">\n",
       "      <th></th>\n",
       "      <th>0</th>\n",
       "      <th>1</th>\n",
       "      <th>2</th>\n",
       "      <th>3</th>\n",
       "      <th>4</th>\n",
       "      <th>5</th>\n",
       "    </tr>\n",
       "  </thead>\n",
       "  <tbody>\n",
       "    <tr>\n",
       "      <th>0</th>\n",
       "      <td>trump</td>\n",
       "      <td>trump</td>\n",
       "      <td>trump</td>\n",
       "      <td>trump</td>\n",
       "      <td>trump</td>\n",
       "      <td>trump</td>\n",
       "    </tr>\n",
       "    <tr>\n",
       "      <th>1</th>\n",
       "      <td>get</td>\n",
       "      <td>get</td>\n",
       "      <td>one</td>\n",
       "      <td>us</td>\n",
       "      <td>one</td>\n",
       "      <td>news</td>\n",
       "    </tr>\n",
       "    <tr>\n",
       "      <th>2</th>\n",
       "      <td>president</td>\n",
       "      <td>virus</td>\n",
       "      <td>us</td>\n",
       "      <td>time</td>\n",
       "      <td>get</td>\n",
       "      <td>2020</td>\n",
       "    </tr>\n",
       "    <tr>\n",
       "      <th>3</th>\n",
       "      <td>us</td>\n",
       "      <td>president</td>\n",
       "      <td>virus</td>\n",
       "      <td>one</td>\n",
       "      <td>us</td>\n",
       "      <td>us</td>\n",
       "    </tr>\n",
       "    <tr>\n",
       "      <th>4</th>\n",
       "      <td>disinfectants</td>\n",
       "      <td>know</td>\n",
       "      <td>get</td>\n",
       "      <td>get</td>\n",
       "      <td>president</td>\n",
       "      <td>04</td>\n",
       "    </tr>\n",
       "    <tr>\n",
       "      <th>5</th>\n",
       "      <td>think</td>\n",
       "      <td>us</td>\n",
       "      <td>news</td>\n",
       "      <td>know</td>\n",
       "      <td>know</td>\n",
       "      <td>one</td>\n",
       "    </tr>\n",
       "    <tr>\n",
       "      <th>6</th>\n",
       "      <td>know</td>\n",
       "      <td>go</td>\n",
       "      <td>please</td>\n",
       "      <td>president</td>\n",
       "      <td>think</td>\n",
       "      <td>president</td>\n",
       "    </tr>\n",
       "    <tr>\n",
       "      <th>7</th>\n",
       "      <td>injecting</td>\n",
       "      <td>injecting</td>\n",
       "      <td>need</td>\n",
       "      <td>virus</td>\n",
       "      <td>say</td>\n",
       "      <td>injecting</td>\n",
       "    </tr>\n",
       "    <tr>\n",
       "      <th>8</th>\n",
       "      <td>virus</td>\n",
       "      <td>say</td>\n",
       "      <td>injecting</td>\n",
       "      <td>please</td>\n",
       "      <td>injecting</td>\n",
       "      <td>virus</td>\n",
       "    </tr>\n",
       "    <tr>\n",
       "      <th>9</th>\n",
       "      <td>say</td>\n",
       "      <td>think</td>\n",
       "      <td>time</td>\n",
       "      <td>go</td>\n",
       "      <td>disinfectants</td>\n",
       "      <td>disinfectants</td>\n",
       "    </tr>\n",
       "    <tr>\n",
       "      <th>10</th>\n",
       "      <td>go</td>\n",
       "      <td>body</td>\n",
       "      <td>even</td>\n",
       "      <td>day</td>\n",
       "      <td>go</td>\n",
       "      <td>via</td>\n",
       "    </tr>\n",
       "    <tr>\n",
       "      <th>11</th>\n",
       "      <td>one</td>\n",
       "      <td>one</td>\n",
       "      <td>know</td>\n",
       "      <td>really</td>\n",
       "      <td>kill</td>\n",
       "      <td>get</td>\n",
       "    </tr>\n",
       "    <tr>\n",
       "      <th>12</th>\n",
       "      <td>really</td>\n",
       "      <td>light</td>\n",
       "      <td>light</td>\n",
       "      <td>think</td>\n",
       "      <td>virus</td>\n",
       "      <td>say</td>\n",
       "    </tr>\n",
       "    <tr>\n",
       "      <th>13</th>\n",
       "      <td>light</td>\n",
       "      <td>never</td>\n",
       "      <td>body</td>\n",
       "      <td>need</td>\n",
       "      <td>see</td>\n",
       "      <td>kill</td>\n",
       "    </tr>\n",
       "    <tr>\n",
       "      <th>14</th>\n",
       "      <td>body</td>\n",
       "      <td>really</td>\n",
       "      <td>president</td>\n",
       "      <td>injecting</td>\n",
       "      <td>even</td>\n",
       "      <td>cure</td>\n",
       "    </tr>\n",
       "    <tr>\n",
       "      <th>15</th>\n",
       "      <td>please</td>\n",
       "      <td>please</td>\n",
       "      <td>2020</td>\n",
       "      <td>kill</td>\n",
       "      <td>going</td>\n",
       "      <td>light</td>\n",
       "    </tr>\n",
       "    <tr>\n",
       "      <th>16</th>\n",
       "      <td>let</td>\n",
       "      <td>disinfectants</td>\n",
       "      <td>new</td>\n",
       "      <td>going</td>\n",
       "      <td>please</td>\n",
       "      <td>world</td>\n",
       "    </tr>\n",
       "    <tr>\n",
       "      <th>17</th>\n",
       "      <td>going</td>\n",
       "      <td>cure</td>\n",
       "      <td>cure</td>\n",
       "      <td>body</td>\n",
       "      <td>time</td>\n",
       "      <td>says</td>\n",
       "    </tr>\n",
       "    <tr>\n",
       "      <th>18</th>\n",
       "      <td>kill</td>\n",
       "      <td>need</td>\n",
       "      <td>going</td>\n",
       "      <td>2020</td>\n",
       "      <td>need</td>\n",
       "      <td>html</td>\n",
       "    </tr>\n",
       "    <tr>\n",
       "      <th>19</th>\n",
       "      <td>cure</td>\n",
       "      <td>let</td>\n",
       "      <td>think</td>\n",
       "      <td>right</td>\n",
       "      <td>news</td>\n",
       "      <td>could</td>\n",
       "    </tr>\n",
       "    <tr>\n",
       "      <th>20</th>\n",
       "      <td>trump</td>\n",
       "      <td>trump</td>\n",
       "      <td>trump</td>\n",
       "      <td>trump</td>\n",
       "      <td>trump</td>\n",
       "      <td>trump</td>\n",
       "    </tr>\n",
       "    <tr>\n",
       "      <th>21</th>\n",
       "      <td>injecting</td>\n",
       "      <td>2020</td>\n",
       "      <td>injecting</td>\n",
       "      <td>injecting</td>\n",
       "      <td>supporters</td>\n",
       "      <td>news</td>\n",
       "    </tr>\n",
       "    <tr>\n",
       "      <th>22</th>\n",
       "      <td>donald</td>\n",
       "      <td>donald</td>\n",
       "      <td>light</td>\n",
       "      <td>president</td>\n",
       "      <td>comments</td>\n",
       "      <td>donald</td>\n",
       "    </tr>\n",
       "    <tr>\n",
       "      <th>23</th>\n",
       "      <td>supporters</td>\n",
       "      <td>news</td>\n",
       "      <td>briefing</td>\n",
       "      <td>kill</td>\n",
       "      <td>2020</td>\n",
       "      <td>sarcastic</td>\n",
       "    </tr>\n",
       "    <tr>\n",
       "      <th>24</th>\n",
       "      <td>cure</td>\n",
       "      <td>sarcastic</td>\n",
       "      <td>says</td>\n",
       "      <td>cure</td>\n",
       "      <td>html</td>\n",
       "      <td>politics</td>\n",
       "    </tr>\n",
       "    <tr>\n",
       "      <th>25</th>\n",
       "      <td>kill</td>\n",
       "      <td>injecting</td>\n",
       "      <td>body</td>\n",
       "      <td>disinfectants</td>\n",
       "      <td>donald</td>\n",
       "      <td>comments</td>\n",
       "    </tr>\n",
       "    <tr>\n",
       "      <th>26</th>\n",
       "      <td>disinfectants</td>\n",
       "      <td>via</td>\n",
       "      <td>news</td>\n",
       "      <td>body</td>\n",
       "      <td>sarcastic</td>\n",
       "      <td>injecting</td>\n",
       "    </tr>\n",
       "    <tr>\n",
       "      <th>27</th>\n",
       "      <td>2020</td>\n",
       "      <td>comments</td>\n",
       "      <td>disinfectants</td>\n",
       "      <td>2020</td>\n",
       "      <td>04</td>\n",
       "      <td>2020</td>\n",
       "    </tr>\n",
       "    <tr>\n",
       "      <th>28</th>\n",
       "      <td>light</td>\n",
       "      <td>04</td>\n",
       "      <td>suggested</td>\n",
       "      <td>donald</td>\n",
       "      <td>injecting</td>\n",
       "      <td>24</td>\n",
       "    </tr>\n",
       "    <tr>\n",
       "      <th>29</th>\n",
       "      <td>wants</td>\n",
       "      <td>24</td>\n",
       "      <td>thought</td>\n",
       "      <td>suggested</td>\n",
       "      <td>via</td>\n",
       "      <td>04</td>\n",
       "    </tr>\n",
       "    <tr>\n",
       "      <th>30</th>\n",
       "      <td>sarcastic</td>\n",
       "      <td>fake</td>\n",
       "      <td>fact</td>\n",
       "      <td>light</td>\n",
       "      <td>disinfectants</td>\n",
       "      <td>html</td>\n",
       "    </tr>\n",
       "    <tr>\n",
       "      <th>31</th>\n",
       "      <td>president</td>\n",
       "      <td>claims</td>\n",
       "      <td>donald</td>\n",
       "      <td>sarcastic</td>\n",
       "      <td>says</td>\n",
       "      <td>cure</td>\n",
       "    </tr>\n",
       "    <tr>\n",
       "      <th>32</th>\n",
       "      <td>comments</td>\n",
       "      <td>politics</td>\n",
       "      <td>actually</td>\n",
       "      <td>wants</td>\n",
       "      <td>kill</td>\n",
       "      <td>briefing</td>\n",
       "    </tr>\n",
       "    <tr>\n",
       "      <th>33</th>\n",
       "      <td>04</td>\n",
       "      <td>cure</td>\n",
       "      <td>kill</td>\n",
       "      <td>04</td>\n",
       "      <td>wants</td>\n",
       "      <td>says</td>\n",
       "    </tr>\n",
       "    <tr>\n",
       "      <th>34</th>\n",
       "      <td>body</td>\n",
       "      <td>leader</td>\n",
       "      <td>cure</td>\n",
       "      <td>please</td>\n",
       "      <td>watch</td>\n",
       "      <td>suggested</td>\n",
       "    </tr>\n",
       "    <tr>\n",
       "      <th>35</th>\n",
       "      <td>uv</td>\n",
       "      <td>suggests</td>\n",
       "      <td>2020</td>\n",
       "      <td>virus</td>\n",
       "      <td>doctor</td>\n",
       "      <td>warns</td>\n",
       "    </tr>\n",
       "    <tr>\n",
       "      <th>36</th>\n",
       "      <td>says</td>\n",
       "      <td>supporters</td>\n",
       "      <td>told</td>\n",
       "      <td>24</td>\n",
       "      <td>news</td>\n",
       "      <td>group</td>\n",
       "    </tr>\n",
       "    <tr>\n",
       "      <th>37</th>\n",
       "      <td>suggested</td>\n",
       "      <td>revealed</td>\n",
       "      <td>uv</td>\n",
       "      <td>news</td>\n",
       "      <td>fake</td>\n",
       "      <td>briefings</td>\n",
       "    </tr>\n",
       "    <tr>\n",
       "      <th>38</th>\n",
       "      <td>24</td>\n",
       "      <td>press</td>\n",
       "      <td>sarcastic</td>\n",
       "      <td>leader</td>\n",
       "      <td>suggested</td>\n",
       "      <td>fact</td>\n",
       "    </tr>\n",
       "    <tr>\n",
       "      <th>39</th>\n",
       "      <td>html</td>\n",
       "      <td>group</td>\n",
       "      <td>exactly</td>\n",
       "      <td>comments</td>\n",
       "      <td>politics</td>\n",
       "      <td>biden</td>\n",
       "    </tr>\n",
       "  </tbody>\n",
       "</table>\n",
       "</div>"
      ],
      "text/plain": [
       "                0              1              2              3              4  \\\n",
       "0           trump          trump          trump          trump          trump   \n",
       "1             get            get            one             us            one   \n",
       "2       president          virus             us           time            get   \n",
       "3              us      president          virus            one             us   \n",
       "4   disinfectants           know            get            get      president   \n",
       "5           think             us           news           know           know   \n",
       "6            know             go         please      president          think   \n",
       "7       injecting      injecting           need          virus            say   \n",
       "8           virus            say      injecting         please      injecting   \n",
       "9             say          think           time             go  disinfectants   \n",
       "10             go           body           even            day             go   \n",
       "11            one            one           know         really           kill   \n",
       "12         really          light          light          think          virus   \n",
       "13          light          never           body           need            see   \n",
       "14           body         really      president      injecting           even   \n",
       "15         please         please           2020           kill          going   \n",
       "16            let  disinfectants            new          going         please   \n",
       "17          going           cure           cure           body           time   \n",
       "18           kill           need          going           2020           need   \n",
       "19           cure            let          think          right           news   \n",
       "20          trump          trump          trump          trump          trump   \n",
       "21      injecting           2020      injecting      injecting     supporters   \n",
       "22         donald         donald          light      president       comments   \n",
       "23     supporters           news       briefing           kill           2020   \n",
       "24           cure      sarcastic           says           cure           html   \n",
       "25           kill      injecting           body  disinfectants         donald   \n",
       "26  disinfectants            via           news           body      sarcastic   \n",
       "27           2020       comments  disinfectants           2020             04   \n",
       "28          light             04      suggested         donald      injecting   \n",
       "29          wants             24        thought      suggested            via   \n",
       "30      sarcastic           fake           fact          light  disinfectants   \n",
       "31      president         claims         donald      sarcastic           says   \n",
       "32       comments       politics       actually          wants           kill   \n",
       "33             04           cure           kill             04          wants   \n",
       "34           body         leader           cure         please          watch   \n",
       "35             uv       suggests           2020          virus         doctor   \n",
       "36           says     supporters           told             24           news   \n",
       "37      suggested       revealed             uv           news           fake   \n",
       "38             24          press      sarcastic         leader      suggested   \n",
       "39           html          group        exactly       comments       politics   \n",
       "\n",
       "                5  \n",
       "0           trump  \n",
       "1            news  \n",
       "2            2020  \n",
       "3              us  \n",
       "4              04  \n",
       "5             one  \n",
       "6       president  \n",
       "7       injecting  \n",
       "8           virus  \n",
       "9   disinfectants  \n",
       "10            via  \n",
       "11            get  \n",
       "12            say  \n",
       "13           kill  \n",
       "14           cure  \n",
       "15          light  \n",
       "16          world  \n",
       "17           says  \n",
       "18           html  \n",
       "19          could  \n",
       "20          trump  \n",
       "21           news  \n",
       "22         donald  \n",
       "23      sarcastic  \n",
       "24       politics  \n",
       "25       comments  \n",
       "26      injecting  \n",
       "27           2020  \n",
       "28             24  \n",
       "29             04  \n",
       "30           html  \n",
       "31           cure  \n",
       "32       briefing  \n",
       "33           says  \n",
       "34      suggested  \n",
       "35          warns  \n",
       "36          group  \n",
       "37      briefings  \n",
       "38           fact  \n",
       "39          biden  "
      ]
     },
     "execution_count": 320,
     "metadata": {},
     "output_type": "execute_result"
    }
   ],
   "source": [
    "top_words"
   ]
  },
  {
   "cell_type": "code",
   "execution_count": 144,
   "metadata": {},
   "outputs": [
    {
     "data": {
      "text/plain": [
       "count     7342.000000\n",
       "mean        30.803187\n",
       "std        416.955815\n",
       "min          0.000000\n",
       "25%          0.000000\n",
       "50%          1.000000\n",
       "75%          5.000000\n",
       "max      21104.000000\n",
       "Name: target, dtype: float64"
      ]
     },
     "execution_count": 144,
     "metadata": {},
     "output_type": "execute_result"
    }
   ],
   "source": [
    "tweet[tweet['user_group_db'] == 3]['target'].describe()"
   ]
  },
  {
   "cell_type": "code",
   "execution_count": 145,
   "metadata": {},
   "outputs": [
    {
     "data": {
      "text/plain": [
       "count     16418.000000\n",
       "mean         21.817944\n",
       "std        1294.440614\n",
       "min           0.000000\n",
       "25%           0.000000\n",
       "50%           1.000000\n",
       "75%           3.000000\n",
       "max      143818.000000\n",
       "Name: target, dtype: float64"
      ]
     },
     "execution_count": 145,
     "metadata": {},
     "output_type": "execute_result"
    }
   ],
   "source": [
    "tweet[tweet['user_group_db'] == 0]['target'].describe()"
   ]
  },
  {
   "cell_type": "code",
   "execution_count": 143,
   "metadata": {},
   "outputs": [
    {
     "data": {
      "text/plain": [
       "(0.0, 100.0)"
      ]
     },
     "execution_count": 143,
     "metadata": {},
     "output_type": "execute_result"
    },
    {
     "data": {
      "image/png": "[encoded data removed]",
      "text/plain": [
       "<Figure size 432x288 with 1 Axes>"
      ]
     },
     "metadata": {
      "needs_background": "light"
     },
     "output_type": "display_data"
    }
   ],
   "source": [
    "plt.scatter(tweet['ratio'], tweet['user_tweets'], c = tweet['user_group_db'])\n",
    "plt.xlim(0, 2)\n",
    "plt.ylim(0, 100)"
   ]
  },
  {
   "cell_type": "code",
   "execution_count": null,
   "metadata": {},
   "outputs": [],
   "source": []
  }
 ],
 "metadata": {
  "kernelspec": {
   "display_name": "Python 3",
   "language": "python",
   "name": "python3"
  },
  "language_info": {
   "codemirror_mode": {
    "name": "ipython",
    "version": 3
   },
   "file_extension": ".py",
   "mimetype": "text/x-python",
   "name": "python",
   "nbconvert_exporter": "python",
   "pygments_lexer": "ipython3",
   "version": "3.7.6"
  }
 },
 "nbformat": 4,
 "nbformat_minor": 4
}
